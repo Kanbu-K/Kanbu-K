{
  "nbformat": 4,
  "nbformat_minor": 0,
  "metadata": {
    "colab": {
      "name": "Resnet(BiT-L).ipynb",
      "provenance": [],
      "collapsed_sections": []
    },
    "kernelspec": {
      "name": "python3",
      "display_name": "Python 3"
    },
    "language_info": {
      "name": "python"
    },
    "widgets": {
      "application/vnd.jupyter.widget-state+json": {
        "8f485c4be6f44bd2be6ecbae90f353b5": {
          "model_module": "@jupyter-widgets/controls",
          "model_name": "HBoxModel",
          "model_module_version": "1.5.0",
          "state": {
            "_dom_classes": [],
            "_model_module": "@jupyter-widgets/controls",
            "_model_module_version": "1.5.0",
            "_model_name": "HBoxModel",
            "_view_count": null,
            "_view_module": "@jupyter-widgets/controls",
            "_view_module_version": "1.5.0",
            "_view_name": "HBoxView",
            "box_style": "",
            "children": [
              "IPY_MODEL_7f3c0e8f1a514b72a75a95a3ee1076b6",
              "IPY_MODEL_bf5f2be8153843f383173b3fbec71908",
              "IPY_MODEL_b35cc76afae2475bb16f839c5ed0d469"
            ],
            "layout": "IPY_MODEL_0e2d31aeadbe40fd9a28ac67149052ea"
          }
        },
        "7f3c0e8f1a514b72a75a95a3ee1076b6": {
          "model_module": "@jupyter-widgets/controls",
          "model_name": "HTMLModel",
          "model_module_version": "1.5.0",
          "state": {
            "_dom_classes": [],
            "_model_module": "@jupyter-widgets/controls",
            "_model_module_version": "1.5.0",
            "_model_name": "HTMLModel",
            "_view_count": null,
            "_view_module": "@jupyter-widgets/controls",
            "_view_module_version": "1.5.0",
            "_view_name": "HTMLView",
            "description": "",
            "description_tooltip": null,
            "layout": "IPY_MODEL_860165c4f82e455e95a5c207fdfc771b",
            "placeholder": "​",
            "style": "IPY_MODEL_4f0ecef7bfd24a92a6990d67cf14e605",
            "value": "Dl Completed...: 100%"
          }
        },
        "bf5f2be8153843f383173b3fbec71908": {
          "model_module": "@jupyter-widgets/controls",
          "model_name": "FloatProgressModel",
          "model_module_version": "1.5.0",
          "state": {
            "_dom_classes": [],
            "_model_module": "@jupyter-widgets/controls",
            "_model_module_version": "1.5.0",
            "_model_name": "FloatProgressModel",
            "_view_count": null,
            "_view_module": "@jupyter-widgets/controls",
            "_view_module_version": "1.5.0",
            "_view_name": "ProgressView",
            "bar_style": "success",
            "description": "",
            "description_tooltip": null,
            "layout": "IPY_MODEL_fdc1644ecd104524bef2e768bb975484",
            "max": 5,
            "min": 0,
            "orientation": "horizontal",
            "style": "IPY_MODEL_6ab622598ecf4a7ea6f97526672a7e63",
            "value": 5
          }
        },
        "b35cc76afae2475bb16f839c5ed0d469": {
          "model_module": "@jupyter-widgets/controls",
          "model_name": "HTMLModel",
          "model_module_version": "1.5.0",
          "state": {
            "_dom_classes": [],
            "_model_module": "@jupyter-widgets/controls",
            "_model_module_version": "1.5.0",
            "_model_name": "HTMLModel",
            "_view_count": null,
            "_view_module": "@jupyter-widgets/controls",
            "_view_module_version": "1.5.0",
            "_view_name": "HTMLView",
            "description": "",
            "description_tooltip": null,
            "layout": "IPY_MODEL_27c56d8859e644fb80a3d6faaa41f095",
            "placeholder": "​",
            "style": "IPY_MODEL_9d26cc76786f4741af2334c2c5bf617c",
            "value": " 5/5 [00:02&lt;00:00,  1.60 file/s]"
          }
        },
        "0e2d31aeadbe40fd9a28ac67149052ea": {
          "model_module": "@jupyter-widgets/base",
          "model_name": "LayoutModel",
          "model_module_version": "1.2.0",
          "state": {
            "_model_module": "@jupyter-widgets/base",
            "_model_module_version": "1.2.0",
            "_model_name": "LayoutModel",
            "_view_count": null,
            "_view_module": "@jupyter-widgets/base",
            "_view_module_version": "1.2.0",
            "_view_name": "LayoutView",
            "align_content": null,
            "align_items": null,
            "align_self": null,
            "border": null,
            "bottom": null,
            "display": null,
            "flex": null,
            "flex_flow": null,
            "grid_area": null,
            "grid_auto_columns": null,
            "grid_auto_flow": null,
            "grid_auto_rows": null,
            "grid_column": null,
            "grid_gap": null,
            "grid_row": null,
            "grid_template_areas": null,
            "grid_template_columns": null,
            "grid_template_rows": null,
            "height": null,
            "justify_content": null,
            "justify_items": null,
            "left": null,
            "margin": null,
            "max_height": null,
            "max_width": null,
            "min_height": null,
            "min_width": null,
            "object_fit": null,
            "object_position": null,
            "order": null,
            "overflow": null,
            "overflow_x": null,
            "overflow_y": null,
            "padding": null,
            "right": null,
            "top": null,
            "visibility": null,
            "width": null
          }
        },
        "860165c4f82e455e95a5c207fdfc771b": {
          "model_module": "@jupyter-widgets/base",
          "model_name": "LayoutModel",
          "model_module_version": "1.2.0",
          "state": {
            "_model_module": "@jupyter-widgets/base",
            "_model_module_version": "1.2.0",
            "_model_name": "LayoutModel",
            "_view_count": null,
            "_view_module": "@jupyter-widgets/base",
            "_view_module_version": "1.2.0",
            "_view_name": "LayoutView",
            "align_content": null,
            "align_items": null,
            "align_self": null,
            "border": null,
            "bottom": null,
            "display": null,
            "flex": null,
            "flex_flow": null,
            "grid_area": null,
            "grid_auto_columns": null,
            "grid_auto_flow": null,
            "grid_auto_rows": null,
            "grid_column": null,
            "grid_gap": null,
            "grid_row": null,
            "grid_template_areas": null,
            "grid_template_columns": null,
            "grid_template_rows": null,
            "height": null,
            "justify_content": null,
            "justify_items": null,
            "left": null,
            "margin": null,
            "max_height": null,
            "max_width": null,
            "min_height": null,
            "min_width": null,
            "object_fit": null,
            "object_position": null,
            "order": null,
            "overflow": null,
            "overflow_x": null,
            "overflow_y": null,
            "padding": null,
            "right": null,
            "top": null,
            "visibility": null,
            "width": null
          }
        },
        "4f0ecef7bfd24a92a6990d67cf14e605": {
          "model_module": "@jupyter-widgets/controls",
          "model_name": "DescriptionStyleModel",
          "model_module_version": "1.5.0",
          "state": {
            "_model_module": "@jupyter-widgets/controls",
            "_model_module_version": "1.5.0",
            "_model_name": "DescriptionStyleModel",
            "_view_count": null,
            "_view_module": "@jupyter-widgets/base",
            "_view_module_version": "1.2.0",
            "_view_name": "StyleView",
            "description_width": ""
          }
        },
        "fdc1644ecd104524bef2e768bb975484": {
          "model_module": "@jupyter-widgets/base",
          "model_name": "LayoutModel",
          "model_module_version": "1.2.0",
          "state": {
            "_model_module": "@jupyter-widgets/base",
            "_model_module_version": "1.2.0",
            "_model_name": "LayoutModel",
            "_view_count": null,
            "_view_module": "@jupyter-widgets/base",
            "_view_module_version": "1.2.0",
            "_view_name": "LayoutView",
            "align_content": null,
            "align_items": null,
            "align_self": null,
            "border": null,
            "bottom": null,
            "display": null,
            "flex": null,
            "flex_flow": null,
            "grid_area": null,
            "grid_auto_columns": null,
            "grid_auto_flow": null,
            "grid_auto_rows": null,
            "grid_column": null,
            "grid_gap": null,
            "grid_row": null,
            "grid_template_areas": null,
            "grid_template_columns": null,
            "grid_template_rows": null,
            "height": null,
            "justify_content": null,
            "justify_items": null,
            "left": null,
            "margin": null,
            "max_height": null,
            "max_width": null,
            "min_height": null,
            "min_width": null,
            "object_fit": null,
            "object_position": null,
            "order": null,
            "overflow": null,
            "overflow_x": null,
            "overflow_y": null,
            "padding": null,
            "right": null,
            "top": null,
            "visibility": null,
            "width": null
          }
        },
        "6ab622598ecf4a7ea6f97526672a7e63": {
          "model_module": "@jupyter-widgets/controls",
          "model_name": "ProgressStyleModel",
          "model_module_version": "1.5.0",
          "state": {
            "_model_module": "@jupyter-widgets/controls",
            "_model_module_version": "1.5.0",
            "_model_name": "ProgressStyleModel",
            "_view_count": null,
            "_view_module": "@jupyter-widgets/base",
            "_view_module_version": "1.2.0",
            "_view_name": "StyleView",
            "bar_color": null,
            "description_width": ""
          }
        },
        "27c56d8859e644fb80a3d6faaa41f095": {
          "model_module": "@jupyter-widgets/base",
          "model_name": "LayoutModel",
          "model_module_version": "1.2.0",
          "state": {
            "_model_module": "@jupyter-widgets/base",
            "_model_module_version": "1.2.0",
            "_model_name": "LayoutModel",
            "_view_count": null,
            "_view_module": "@jupyter-widgets/base",
            "_view_module_version": "1.2.0",
            "_view_name": "LayoutView",
            "align_content": null,
            "align_items": null,
            "align_self": null,
            "border": null,
            "bottom": null,
            "display": null,
            "flex": null,
            "flex_flow": null,
            "grid_area": null,
            "grid_auto_columns": null,
            "grid_auto_flow": null,
            "grid_auto_rows": null,
            "grid_column": null,
            "grid_gap": null,
            "grid_row": null,
            "grid_template_areas": null,
            "grid_template_columns": null,
            "grid_template_rows": null,
            "height": null,
            "justify_content": null,
            "justify_items": null,
            "left": null,
            "margin": null,
            "max_height": null,
            "max_width": null,
            "min_height": null,
            "min_width": null,
            "object_fit": null,
            "object_position": null,
            "order": null,
            "overflow": null,
            "overflow_x": null,
            "overflow_y": null,
            "padding": null,
            "right": null,
            "top": null,
            "visibility": null,
            "width": null
          }
        },
        "9d26cc76786f4741af2334c2c5bf617c": {
          "model_module": "@jupyter-widgets/controls",
          "model_name": "DescriptionStyleModel",
          "model_module_version": "1.5.0",
          "state": {
            "_model_module": "@jupyter-widgets/controls",
            "_model_module_version": "1.5.0",
            "_model_name": "DescriptionStyleModel",
            "_view_count": null,
            "_view_module": "@jupyter-widgets/base",
            "_view_module_version": "1.2.0",
            "_view_name": "StyleView",
            "description_width": ""
          }
        }
      }
    }
  },
  "cells": [
    {
      "cell_type": "code",
      "source": [
        "#@title Imports\n",
        "import tensorflow as tf\n",
        "import tensorflow_hub as hub\n",
        "\n",
        "import tensorflow_datasets as tfds\n",
        "\n",
        "import time\n",
        "\n",
        "from PIL import Image\n",
        "import requests\n",
        "from io import BytesIO\n",
        "\n",
        "import matplotlib.pyplot as plt\n",
        "import numpy as np\n",
        "\n",
        "import os\n",
        "import pathlib"
      ],
      "metadata": {
        "id": "yaKqJi1ej4rv"
      },
      "execution_count": 26,
      "outputs": []
    },
    {
      "cell_type": "code",
      "source": [
        "!wget https://storage.googleapis.com/bit_models/ilsvrc2012_wordnet_lemmas.txt\n",
        "\n",
        "imagenet_int_to_str = {}\n",
        "\n",
        "with open('ilsvrc2012_wordnet_lemmas.txt', 'r') as f:\n",
        "  for i in range(1000):\n",
        "    row = f.readline()\n",
        "    row = row.rstrip()\n",
        "    imagenet_int_to_str.update({i: row})"
      ],
      "metadata": {
        "colab": {
          "base_uri": "https://localhost:8080/"
        },
        "id": "ZqLlevG5j9gK",
        "outputId": "bbe94634-6bc7-4df2-e178-beee27d0e7a7"
      },
      "execution_count": 27,
      "outputs": [
        {
          "output_type": "stream",
          "name": "stdout",
          "text": [
            "--2022-06-10 07:41:51--  https://storage.googleapis.com/bit_models/ilsvrc2012_wordnet_lemmas.txt\n",
            "Resolving storage.googleapis.com (storage.googleapis.com)... 74.125.124.128, 172.217.212.128, 172.217.214.128, ...\n",
            "Connecting to storage.googleapis.com (storage.googleapis.com)|74.125.124.128|:443... connected.\n",
            "HTTP request sent, awaiting response... 200 OK\n",
            "Length: 21675 (21K) [text/plain]\n",
            "Saving to: ‘ilsvrc2012_wordnet_lemmas.txt’\n",
            "\n",
            "ilsvrc2012_wordnet_ 100%[===================>]  21.17K  --.-KB/s    in 0s      \n",
            "\n",
            "2022-06-10 07:41:51 (115 MB/s) - ‘ilsvrc2012_wordnet_lemmas.txt’ saved [21675/21675]\n",
            "\n"
          ]
        }
      ]
    },
    {
      "cell_type": "code",
      "source": [
        "tf_flowers_labels = ['dandelion', 'daisy', 'tulips', 'sunflowers', 'roses']"
      ],
      "metadata": {
        "id": "A7jUYS3ikACc"
      },
      "execution_count": 28,
      "outputs": []
    },
    {
      "cell_type": "code",
      "source": [
        "model_url = \"https://tfhub.dev/google/bit/m-r50x1/1\"\n",
        "module = hub.KerasLayer(model_url)"
      ],
      "metadata": {
        "id": "SoRDJZTUkCli"
      },
      "execution_count": 29,
      "outputs": []
    },
    {
      "cell_type": "code",
      "source": [
        "model_url = \"https://tfhub.dev/google/bit/m-r50x1/ilsvrc2012_classification/1\"\n",
        "imagenet_module = hub.KerasLayer(model_url)"
      ],
      "metadata": {
        "id": "ogVDGZS4kK0S"
      },
      "execution_count": 30,
      "outputs": []
    },
    {
      "cell_type": "code",
      "source": [
        "def preprocess_image(image):\n",
        "  image = np.array(image)\n",
        "  # reshape into shape [batch_size, height, width, num_channels]\n",
        "  img_reshaped = tf.reshape(image, [1, image.shape[0], image.shape[1], image.shape[2]])\n",
        "  # Use `convert_image_dtype` to convert to floats in the [0,1] range.\n",
        "  image = tf.image.convert_image_dtype(img_reshaped, tf.float32)  \n",
        "  return image\n",
        "\n",
        "def load_image_from_url(url):\n",
        "  \"\"\"Returns an image with shape [1, height, width, num_channels].\"\"\"\n",
        "  response = requests.get(url)\n",
        "  image = Image.open(BytesIO(response.content))\n",
        "  image = preprocess_image(image)\n",
        "  return image"
      ],
      "metadata": {
        "id": "oAiPz9WlkSqS"
      },
      "execution_count": 31,
      "outputs": []
    },
    {
      "cell_type": "code",
      "source": [
        "MAX_PREDS = 5\n",
        "# Do not show labels with lower score than this:\n",
        "MIN_SCORE = 0.8 \n",
        "\n",
        "def show_preds(logits, image, correct_flowers_label=None, tf_flowers_logits=False):\n",
        "\n",
        "  if len(logits.shape) > 1:\n",
        "    logits = tf.reshape(logits, [-1])\n",
        "\n",
        "  fig, axes = plt.subplots(1, 2, figsize=(7, 4), squeeze=False)\n",
        "\n",
        "  ax1, ax2 = axes[0]\n",
        "\n",
        "  ax1.axis('off')\n",
        "  ax1.imshow(image)\n",
        "  if correct_flowers_label is not None:\n",
        "    ax1.set_title(tf_flowers_labels[correct_flowers_label])\n",
        "  classes = []\n",
        "  scores = []\n",
        "  logits_max = np.max(logits)\n",
        "  softmax_denominator = np.sum(np.exp(logits - logits_max))\n",
        "  for index, j in enumerate(np.argsort(logits)[-MAX_PREDS::][::-1]):\n",
        "    score = 1.0/(1.0 + np.exp(-logits[j]))\n",
        "    if score < MIN_SCORE: break\n",
        "    if not tf_flowers_logits:\n",
        "      # predicting in imagenet label space\n",
        "      classes.append(imagenet_int_to_str[j])\n",
        "    else:\n",
        "      # predicting in tf_flowers label space\n",
        "      classes.append(tf_flowers_labels[j])\n",
        "    scores.append(np.exp(logits[j] - logits_max)/softmax_denominator*100)\n",
        "\n",
        "  ax2.barh(np.arange(len(scores)) + 0.1, scores)\n",
        "  ax2.set_xlim(0, 100)\n",
        "  ax2.set_yticks(np.arange(len(scores)))\n",
        "  ax2.yaxis.set_ticks_position('right')\n",
        "  ax2.set_yticklabels(classes, rotation=0, fontsize=14)\n",
        "  ax2.invert_xaxis()\n",
        "  ax2.invert_yaxis()\n",
        "  ax2.set_xlabel('Prediction probabilities', fontsize=11)"
      ],
      "metadata": {
        "id": "oTnaNZJCkVYi"
      },
      "execution_count": 32,
      "outputs": []
    },
    {
      "cell_type": "code",
      "source": [
        "# Load image (image provided is CC0 licensed)\n",
        "img_url = \"https://p0.pikrepo.com/preview/853/907/close-up-photo-of-gray-elephant.jpg\"\n",
        "image = load_image_from_url(img_url)\n",
        "\n",
        "# Run model on image\n",
        "logits = imagenet_module(image)\n",
        "\n",
        "# Show image and predictions\n",
        "show_preds(logits, image[0])"
      ],
      "metadata": {
        "colab": {
          "base_uri": "https://localhost:8080/",
          "height": 279
        },
        "id": "0zk5-eYJmB8B",
        "outputId": "119322c5-0285-4332-f00a-c64de617207d"
      },
      "execution_count": 33,
      "outputs": [
        {
          "output_type": "display_data",
          "data": {
            "text/plain": [
              "<Figure size 504x288 with 2 Axes>"
            ],
            "image/png": "[encoded data removed]"
          },
          "metadata": {
            "needs_background": "light"
          }
        }
      ]
    },
    {
      "cell_type": "code",
      "source": [
        "# Import tf_flowers data from tfds\n",
        "\n",
        "dataset_name = 'tf_flowers'\n",
        "ds, info = tfds.load(name=dataset_name, split=['train'], with_info=True)\n",
        "ds = ds[0]\n",
        "num_examples = info.splits['train'].num_examples\n",
        "NUM_CLASSES = 5"
      ],
      "metadata": {
        "colab": {
          "base_uri": "https://localhost:8080/",
          "height": 196,
          "referenced_widgets": [
            "8f485c4be6f44bd2be6ecbae90f353b5",
            "7f3c0e8f1a514b72a75a95a3ee1076b6",
            "bf5f2be8153843f383173b3fbec71908",
            "b35cc76afae2475bb16f839c5ed0d469",
            "0e2d31aeadbe40fd9a28ac67149052ea",
            "860165c4f82e455e95a5c207fdfc771b",
            "4f0ecef7bfd24a92a6990d67cf14e605",
            "fdc1644ecd104524bef2e768bb975484",
            "6ab622598ecf4a7ea6f97526672a7e63",
            "27c56d8859e644fb80a3d6faaa41f095",
            "9d26cc76786f4741af2334c2c5bf617c"
          ]
        },
        "id": "s-TbnriGmFlt",
        "outputId": "e2aaaa79-1648-4ffa-bd64-9b42ecb03636"
      },
      "execution_count": 34,
      "outputs": [
        {
          "output_type": "stream",
          "name": "stdout",
          "text": [
            "\u001b[1mDownloading and preparing dataset tf_flowers/3.0.1 (download: 218.21 MiB, generated: 221.83 MiB, total: 440.05 MiB) to /root/tensorflow_datasets/tf_flowers/3.0.1...\u001b[0m\n"
          ]
        },
        {
          "output_type": "stream",
          "name": "stderr",
          "text": [
            "WARNING:absl:Dataset tf_flowers is hosted on GCS. It will automatically be downloaded to your\n",
            "local data directory. If you'd instead prefer to read directly from our public\n",
            "GCS bucket (recommended if you're running on GCP), you can instead pass\n",
            "`try_gcs=True` to `tfds.load` or set `data_dir=gs://tfds-data/datasets`.\n",
            "\n"
          ]
        },
        {
          "output_type": "display_data",
          "data": {
            "text/plain": [
              "Dl Completed...:   0%|          | 0/5 [00:00<?, ? file/s]"
            ],
            "application/vnd.jupyter.widget-view+json": {
              "version_major": 2,
              "version_minor": 0,
              "model_id": "8f485c4be6f44bd2be6ecbae90f353b5"
            }
          },
          "metadata": {}
        },
        {
          "output_type": "stream",
          "name": "stdout",
          "text": [
            "\n",
            "\u001b[1mDataset tf_flowers downloaded and prepared to /root/tensorflow_datasets/tf_flowers/3.0.1. Subsequent calls will reuse this data.\u001b[0m\n"
          ]
        }
      ]
    },
    {
      "cell_type": "code",
      "source": [
        "#@title Alternative code for loading a dataset\n",
        "#@markdown We provide alternative code for loading `tf_flowers` from an URL in this cell to make it easy for you to try loading your own datasets. \n",
        "\n",
        "#@markdown This code is commented out by default and replaces the cell immediately above. Note that using this option may result in a different example image below.\n",
        "\"\"\"\n",
        "data_dir = tf.keras.utils.get_file(origin='https://storage.googleapis.com/download.tensorflow.org/example_images/flower_photos.tgz',\n",
        "                                         fname='flower_photos', untar=True)\n",
        "data_dir = pathlib.Path(data_dir)\n",
        "\n",
        "IMG_HEIGHT = 224\n",
        "IMG_WIDTH = 224\n",
        "\n",
        "CLASS_NAMES = tf_flowers_labels  # from plotting helper functions above\n",
        "NUM_CLASSES = len(CLASS_NAMES)\n",
        "num_examples = len(list(data_dir.glob('*/*.jpg')))\n",
        "\n",
        "def get_label(file_path):\n",
        "  # convert the path to a list of path components\n",
        "  parts = tf.strings.split(file_path, os.path.sep)\n",
        "  # The second to last is the class-directory\n",
        "  \n",
        "  return tf.where(parts[-2] == CLASS_NAMES)[0][0]\n",
        "\n",
        "def decode_img(img):\n",
        "  # convert the compressed string to a 3D uint8 tensor\n",
        "  img = tf.image.decode_jpeg(img, channels=3)\n",
        "  return img  \n",
        "\n",
        "def process_path(file_path):\n",
        "  label = get_label(file_path)\n",
        "  # load the raw data from the file as a string\n",
        "  img = tf.io.read_file(file_path)\n",
        "  img = decode_img(img)\n",
        "  features = {'image': img, 'label': label}\n",
        "  return features\n",
        "\n",
        "list_ds = tf.data.Dataset.list_files(str(data_dir/'*/*'))\n",
        "ds = list_ds.map(process_path, num_parallel_calls=tf.data.experimental.AUTOTUNE)\n",
        "\"\"\""
      ],
      "metadata": {
        "colab": {
          "base_uri": "https://localhost:8080/",
          "height": 109
        },
        "id": "pBY-GjZWmJAZ",
        "outputId": "cc527c44-5d35-4373-ec87-9311078fe2bd"
      },
      "execution_count": 35,
      "outputs": [
        {
          "output_type": "execute_result",
          "data": {
            "text/plain": [
              "\"\\ndata_dir = tf.keras.utils.get_file(origin='https://storage.googleapis.com/download.tensorflow.org/example_images/flower_photos.tgz',\\n                                         fname='flower_photos', untar=True)\\ndata_dir = pathlib.Path(data_dir)\\n\\nIMG_HEIGHT = 224\\nIMG_WIDTH = 224\\n\\nCLASS_NAMES = tf_flowers_labels  # from plotting helper functions above\\nNUM_CLASSES = len(CLASS_NAMES)\\nnum_examples = len(list(data_dir.glob('*/*.jpg')))\\n\\ndef get_label(file_path):\\n  # convert the path to a list of path components\\n  parts = tf.strings.split(file_path, os.path.sep)\\n  # The second to last is the class-directory\\n  \\n  return tf.where(parts[-2] == CLASS_NAMES)[0][0]\\n\\ndef decode_img(img):\\n  # convert the compressed string to a 3D uint8 tensor\\n  img = tf.image.decode_jpeg(img, channels=3)\\n  return img  \\n\\ndef process_path(file_path):\\n  label = get_label(file_path)\\n  # load the raw data from the file as a string\\n  img = tf.io.read_file(file_path)\\n  img = decode_img(img)\\n  features = {'image': img, 'label': label}\\n  return features\\n\\nlist_ds = tf.data.Dataset.list_files(str(data_dir/'*/*'))\\nds = list_ds.map(process_path, num_parallel_calls=tf.data.experimental.AUTOTUNE)\\n\""
            ],
            "application/vnd.google.colaboratory.intrinsic+json": {
              "type": "string"
            }
          },
          "metadata": {},
          "execution_count": 35
        }
      ]
    },
    {
      "cell_type": "code",
      "source": [
        "train_split = 0.9\n",
        "num_train = int(train_split * num_examples)\n",
        "ds_train = ds.take(num_train)\n",
        "ds_test = ds.skip(num_train)\n",
        "\n",
        "DATASET_NUM_TRAIN_EXAMPLES = num_examples"
      ],
      "metadata": {
        "id": "X6Fv-NPWmNJ6"
      },
      "execution_count": 36,
      "outputs": []
    },
    {
      "cell_type": "code",
      "source": [
        "for features in ds_train.take(1):\n",
        "  image = features['image']\n",
        "  image = preprocess_image(image)\n",
        "\n",
        "  # Run model on image\n",
        "  logits = imagenet_module(image)\n",
        "  \n",
        "  # Show image and predictions\n",
        "  show_preds(logits, image[0], correct_flowers_label=features['label'].numpy())"
      ],
      "metadata": {
        "colab": {
          "base_uri": "https://localhost:8080/",
          "height": 279
        },
        "id": "SCp84V4jmPIE",
        "outputId": "9133015e-7c26-4d32-f5e2-70a8bcba9d1c"
      },
      "execution_count": 37,
      "outputs": [
        {
          "output_type": "display_data",
          "data": {
            "text/plain": [
              "<Figure size 504x288 with 2 Axes>"
            ],
            "image/png": "[encoded data removed]"
          },
          "metadata": {
            "needs_background": "light"
          }
        }
      ]
    },
    {
      "cell_type": "code",
      "source": [
        "# Add new head to the BiT model\n",
        "\n",
        "class MyBiTModel(tf.keras.Model):\n",
        "  \"\"\"BiT with a new head.\"\"\"\n",
        "\n",
        "  def __init__(self, num_classes, module):\n",
        "    super().__init__()\n",
        "\n",
        "    self.num_classes = num_classes\n",
        "    self.head = tf.keras.layers.Dense(num_classes, kernel_initializer='zeros')\n",
        "    self.bit_model = module\n",
        "  \n",
        "  def call(self, images):\n",
        "    # No need to cut head off since we are using feature extractor model\n",
        "    bit_embedding = self.bit_model(images)\n",
        "    return self.head(bit_embedding)\n",
        "\n",
        "model = MyBiTModel(num_classes=NUM_CLASSES, module=module)"
      ],
      "metadata": {
        "id": "1NcCyAChmSbp"
      },
      "execution_count": 38,
      "outputs": []
    },
    {
      "cell_type": "code",
      "source": [
        "#@title Set dataset-dependent hyperparameters\n",
        "\n",
        "#@markdown Here we set dataset-dependent hyperparameters. For example, our dataset of flowers has 3670 images of varying size (a few hundred x a few hundred pixels), so the image size is larger than 96x96 and the dataset size is <20k examples. However, for speed reasons (since this is a tutorial and we are training on a single GPU), we will select the `<96x96 px` option and train on lower resolution images. As we will see, we can still attain strong results.\n",
        "\n",
        "#@markdown **Algorithm details: how are the hyperparameters dataset-dependent?** \n",
        "\n",
        "#@markdown It's quite intuitive - we resize images to a smaller fixed size if they are smaller than 96 x 96px and to a larger fixed size otherwise. The number of steps we fine-tune for is larger for larger datasets. \n",
        "\n",
        "IMAGE_SIZE = \"=\\u003C96x96 px\" #@param [\"=<96x96 px\",\"> 96 x 96 px\"]\n",
        "DATASET_SIZE = \"\\u003C20k examples\" #@param [\"<20k examples\", \"20k-500k examples\", \">500k examples\"]\n",
        "\n",
        "if IMAGE_SIZE == \"=<96x96 px\":\n",
        "  RESIZE_TO = 160\n",
        "  CROP_TO = 128\n",
        "else:\n",
        "  RESIZE_TO = 512\n",
        "  CROP_TO = 480\n",
        "\n",
        "if DATASET_SIZE == \"<20k examples\":\n",
        "  SCHEDULE_LENGTH = 500\n",
        "  SCHEDULE_BOUNDARIES = [200, 300, 400]\n",
        "elif DATASET_SIZE == \"20k-500k examples\":\n",
        "  SCHEDULE_LENGTH = 10000\n",
        "  SCHEDULE_BOUNDARIES = [3000, 6000, 9000]\n",
        "else:\n",
        "  SCHEDULE_LENGTH = 20000\n",
        "  SCHEDULE_BOUNDARIES = [6000, 12000, 18000]"
      ],
      "metadata": {
        "id": "0Z1m9FSTmVX4"
      },
      "execution_count": 39,
      "outputs": []
    },
    {
      "cell_type": "code",
      "source": [
        "# Preprocessing helper functions\n",
        "\n",
        "# Create data pipelines for training and testing:\n",
        "BATCH_SIZE = 512\n",
        "SCHEDULE_LENGTH = SCHEDULE_LENGTH * 512 / BATCH_SIZE\n",
        "\n",
        "STEPS_PER_EPOCH = 10\n",
        "\n",
        "def cast_to_tuple(features):\n",
        "  return (features['image'], features['label'])\n",
        "  \n",
        "def preprocess_train(features):\n",
        "  # Apply random crops and horizontal flips for all tasks \n",
        "  # except those for which cropping or flipping destroys the label semantics\n",
        "  # (e.g. predict orientation of an object)\n",
        "  features['image'] = tf.image.random_flip_left_right(features['image'])\n",
        "  features['image'] = tf.image.resize(features['image'], [RESIZE_TO, RESIZE_TO])\n",
        "  features['image'] = tf.image.random_crop(features['image'], [CROP_TO, CROP_TO, 3])\n",
        "  features['image'] = tf.cast(features['image'], tf.float32) / 255.0\n",
        "  return features\n",
        "\n",
        "def preprocess_test(features):\n",
        "  features['image'] = tf.image.resize(features['image'], [RESIZE_TO, RESIZE_TO])\n",
        "  features['image'] = tf.cast(features['image'], tf.float32) / 255.0\n",
        "  return features\n",
        "\n",
        "pipeline_train = (ds_train\n",
        "                  .shuffle(10000)\n",
        "                  .repeat(int(SCHEDULE_LENGTH * BATCH_SIZE / DATASET_NUM_TRAIN_EXAMPLES * STEPS_PER_EPOCH) + 1 + 50)  # repeat dataset_size / num_steps\n",
        "                  .map(preprocess_train, num_parallel_calls=8)\n",
        "                  .batch(BATCH_SIZE)\n",
        "                  .map(cast_to_tuple)  # for keras model.fit\n",
        "                  .prefetch(2))\n",
        "\n",
        "pipeline_test = (ds_test.map(preprocess_test, num_parallel_calls=1)\n",
        "                  .map(cast_to_tuple)  # for keras model.fit\n",
        "                  .batch(BATCH_SIZE)\n",
        "                  .prefetch(2))"
      ],
      "metadata": {
        "id": "CPbWZc2omWML"
      },
      "execution_count": 40,
      "outputs": []
    },
    {
      "cell_type": "code",
      "source": [
        "# Define optimiser and loss\n",
        "\n",
        "lr = 0.003 * BATCH_SIZE / 512 \n",
        "\n",
        "# Decay learning rate by a factor of 10 at SCHEDULE_BOUNDARIES.\n",
        "lr_schedule = tf.keras.optimizers.schedules.PiecewiseConstantDecay(boundaries=SCHEDULE_BOUNDARIES, \n",
        "                                                                   values=[lr, lr*0.1, lr*0.001, lr*0.0001])\n",
        "optimizer = tf.keras.optimizers.SGD(learning_rate=lr_schedule, momentum=0.9)\n",
        "\n",
        "loss_fn = tf.keras.losses.SparseCategoricalCrossentropy(from_logits=True)"
      ],
      "metadata": {
        "id": "Bhj7UUSOmZ6I"
      },
      "execution_count": 41,
      "outputs": []
    },
    {
      "cell_type": "code",
      "source": [
        "model.compile(optimizer=optimizer,\n",
        "              loss=loss_fn,\n",
        "              metrics=['accuracy'])\n",
        "\n",
        "# Fine-tune model\n",
        "history = model.fit(\n",
        "    pipeline_train,\n",
        "    batch_size=BATCH_SIZE,\n",
        "    steps_per_epoch=STEPS_PER_EPOCH,\n",
        "    epochs= int(SCHEDULE_LENGTH / STEPS_PER_EPOCH),  # TODO: replace with `epochs=10` here to shorten fine-tuning for tutorial if you wish\n",
        "    validation_data=pipeline_test  # here we are only using \n",
        "                                   # this data to evaluate our performance\n",
        ")"
      ],
      "metadata": {
        "colab": {
          "base_uri": "https://localhost:8080/"
        },
        "id": "Dkq-Y_scmbrG",
        "outputId": "8626a682-152a-4efe-8c2c-ec1499ede2b4"
      },
      "execution_count": 42,
      "outputs": [
        {
          "output_type": "stream",
          "name": "stdout",
          "text": [
            "Epoch 1/50\n",
            "10/10 [==============================] - 461s 43s/step - loss: 0.4058 - accuracy: 0.8467 - val_loss: 0.0984 - val_accuracy: 0.9809\n",
            "Epoch 2/50\n",
            "10/10 [==============================] - 420s 43s/step - loss: 0.1697 - accuracy: 0.9518 - val_loss: 0.1091 - val_accuracy: 0.9782\n",
            "Epoch 3/50\n",
            "10/10 [==============================] - 408s 41s/step - loss: 0.1387 - accuracy: 0.9607 - val_loss: 0.0981 - val_accuracy: 0.9755\n",
            "Epoch 4/50\n",
            "10/10 [==============================] - 405s 41s/step - loss: 0.1098 - accuracy: 0.9691 - val_loss: 0.0884 - val_accuracy: 0.9809\n",
            "Epoch 5/50\n",
            "10/10 [==============================] - 413s 42s/step - loss: 0.0964 - accuracy: 0.9713 - val_loss: 0.0877 - val_accuracy: 0.9782\n",
            "Epoch 6/50\n",
            "10/10 [==============================] - 411s 42s/step - loss: 0.0728 - accuracy: 0.9770 - val_loss: 0.0853 - val_accuracy: 0.9864\n",
            "Epoch 7/50\n",
            "10/10 [==============================] - 410s 41s/step - loss: 0.0647 - accuracy: 0.9795 - val_loss: 0.0804 - val_accuracy: 0.9782\n",
            "Epoch 8/50\n",
            "10/10 [==============================] - 406s 41s/step - loss: 0.0514 - accuracy: 0.9855 - val_loss: 0.0744 - val_accuracy: 0.9809\n",
            "Epoch 9/50\n",
            "10/10 [==============================] - 412s 42s/step - loss: 0.0529 - accuracy: 0.9840 - val_loss: 0.0774 - val_accuracy: 0.9782\n",
            "Epoch 10/50\n",
            "10/10 [==============================] - 412s 42s/step - loss: 0.0444 - accuracy: 0.9855 - val_loss: 0.0753 - val_accuracy: 0.9782\n",
            "Epoch 11/50\n",
            "10/10 [==============================] - 409s 41s/step - loss: 0.0423 - accuracy: 0.9865 - val_loss: 0.0751 - val_accuracy: 0.9782\n",
            "Epoch 12/50\n",
            "10/10 [==============================] - 409s 41s/step - loss: 0.0401 - accuracy: 0.9887 - val_loss: 0.0730 - val_accuracy: 0.9782\n",
            "Epoch 13/50\n",
            "10/10 [==============================] - 410s 41s/step - loss: 0.0381 - accuracy: 0.9875 - val_loss: 0.0733 - val_accuracy: 0.9809\n",
            "Epoch 14/50\n",
            "10/10 [==============================] - 411s 42s/step - loss: 0.0361 - accuracy: 0.9895 - val_loss: 0.0702 - val_accuracy: 0.9782\n",
            "Epoch 15/50\n",
            "10/10 [==============================] - 409s 41s/step - loss: 0.0273 - accuracy: 0.9920 - val_loss: 0.0677 - val_accuracy: 0.9782\n",
            "Epoch 16/50\n",
            "10/10 [==============================] - 411s 41s/step - loss: 0.0309 - accuracy: 0.9916 - val_loss: 0.0714 - val_accuracy: 0.9782\n",
            "Epoch 17/50\n",
            "10/10 [==============================] - 408s 41s/step - loss: 0.0265 - accuracy: 0.9928 - val_loss: 0.0683 - val_accuracy: 0.9782\n",
            "Epoch 18/50\n",
            "10/10 [==============================] - 410s 42s/step - loss: 0.0339 - accuracy: 0.9896 - val_loss: 0.0731 - val_accuracy: 0.9782\n",
            "Epoch 19/50\n",
            "10/10 [==============================] - 409s 41s/step - loss: 0.0249 - accuracy: 0.9932 - val_loss: 0.0705 - val_accuracy: 0.9782\n",
            "Epoch 20/50\n",
            "10/10 [==============================] - 408s 41s/step - loss: 0.0276 - accuracy: 0.9924 - val_loss: 0.0757 - val_accuracy: 0.9782\n",
            "Epoch 21/50\n",
            "10/10 [==============================] - 407s 41s/step - loss: 0.0260 - accuracy: 0.9928 - val_loss: 0.0717 - val_accuracy: 0.9809\n",
            "Epoch 22/50\n",
            "10/10 [==============================] - 406s 41s/step - loss: 0.0267 - accuracy: 0.9916 - val_loss: 0.0701 - val_accuracy: 0.9809\n",
            "Epoch 23/50\n",
            "10/10 [==============================] - 409s 41s/step - loss: 0.0230 - accuracy: 0.9939 - val_loss: 0.0702 - val_accuracy: 0.9809\n",
            "Epoch 24/50\n",
            "10/10 [==============================] - 409s 41s/step - loss: 0.0206 - accuracy: 0.9951 - val_loss: 0.0703 - val_accuracy: 0.9782\n",
            "Epoch 25/50\n",
            "10/10 [==============================] - 407s 41s/step - loss: 0.0237 - accuracy: 0.9937 - val_loss: 0.0707 - val_accuracy: 0.9782\n",
            "Epoch 26/50\n",
            "10/10 [==============================] - 407s 41s/step - loss: 0.0244 - accuracy: 0.9934 - val_loss: 0.0709 - val_accuracy: 0.9782\n",
            "Epoch 27/50\n",
            "10/10 [==============================] - 411s 42s/step - loss: 0.0246 - accuracy: 0.9934 - val_loss: 0.0701 - val_accuracy: 0.9782\n",
            "Epoch 28/50\n",
            "10/10 [==============================] - 409s 41s/step - loss: 0.0211 - accuracy: 0.9949 - val_loss: 0.0694 - val_accuracy: 0.9782\n",
            "Epoch 29/50\n",
            "10/10 [==============================] - 413s 42s/step - loss: 0.0216 - accuracy: 0.9947 - val_loss: 0.0689 - val_accuracy: 0.9782\n",
            "Epoch 30/50\n",
            "10/10 [==============================] - 408s 41s/step - loss: 0.0212 - accuracy: 0.9941 - val_loss: 0.0693 - val_accuracy: 0.9782\n",
            "Epoch 31/50\n",
            "10/10 [==============================] - 412s 42s/step - loss: 0.0265 - accuracy: 0.9920 - val_loss: 0.0692 - val_accuracy: 0.9782\n",
            "Epoch 32/50\n",
            "10/10 [==============================] - 409s 41s/step - loss: 0.0239 - accuracy: 0.9922 - val_loss: 0.0692 - val_accuracy: 0.9782\n",
            "Epoch 33/50\n",
            "10/10 [==============================] - 410s 41s/step - loss: 0.0231 - accuracy: 0.9918 - val_loss: 0.0692 - val_accuracy: 0.9782\n",
            "Epoch 34/50\n",
            "10/10 [==============================] - 409s 41s/step - loss: 0.0225 - accuracy: 0.9936 - val_loss: 0.0692 - val_accuracy: 0.9782\n",
            "Epoch 35/50\n",
            "10/10 [==============================] - 411s 42s/step - loss: 0.0220 - accuracy: 0.9943 - val_loss: 0.0692 - val_accuracy: 0.9782\n",
            "Epoch 36/50\n",
            "10/10 [==============================] - 412s 42s/step - loss: 0.0185 - accuracy: 0.9969 - val_loss: 0.0692 - val_accuracy: 0.9782\n",
            "Epoch 37/50\n",
            "10/10 [==============================] - 415s 42s/step - loss: 0.0246 - accuracy: 0.9932 - val_loss: 0.0692 - val_accuracy: 0.9782\n",
            "Epoch 38/50\n",
            "10/10 [==============================] - 411s 41s/step - loss: 0.0205 - accuracy: 0.9939 - val_loss: 0.0692 - val_accuracy: 0.9782\n",
            "Epoch 39/50\n",
            "10/10 [==============================] - 415s 42s/step - loss: 0.0233 - accuracy: 0.9936 - val_loss: 0.0692 - val_accuracy: 0.9782\n",
            "Epoch 40/50\n",
            "10/10 [==============================] - 414s 42s/step - loss: 0.0250 - accuracy: 0.9932 - val_loss: 0.0692 - val_accuracy: 0.9782\n",
            "Epoch 41/50\n",
            "10/10 [==============================] - 411s 42s/step - loss: 0.0236 - accuracy: 0.9945 - val_loss: 0.0692 - val_accuracy: 0.9782\n",
            "Epoch 42/50\n",
            "10/10 [==============================] - 413s 42s/step - loss: 0.0215 - accuracy: 0.9945 - val_loss: 0.0692 - val_accuracy: 0.9782\n",
            "Epoch 43/50\n",
            "10/10 [==============================] - 414s 42s/step - loss: 0.0225 - accuracy: 0.9945 - val_loss: 0.0692 - val_accuracy: 0.9782\n",
            "Epoch 44/50\n",
            "10/10 [==============================] - 412s 42s/step - loss: 0.0241 - accuracy: 0.9924 - val_loss: 0.0692 - val_accuracy: 0.9782\n",
            "Epoch 45/50\n",
            "10/10 [==============================] - 411s 41s/step - loss: 0.0212 - accuracy: 0.9951 - val_loss: 0.0692 - val_accuracy: 0.9782\n",
            "Epoch 46/50\n",
            "10/10 [==============================] - 410s 41s/step - loss: 0.0211 - accuracy: 0.9926 - val_loss: 0.0692 - val_accuracy: 0.9782\n",
            "Epoch 47/50\n",
            "10/10 [==============================] - 410s 42s/step - loss: 0.0212 - accuracy: 0.9953 - val_loss: 0.0692 - val_accuracy: 0.9782\n",
            "Epoch 48/50\n",
            "10/10 [==============================] - 408s 41s/step - loss: 0.0233 - accuracy: 0.9928 - val_loss: 0.0692 - val_accuracy: 0.9782\n",
            "Epoch 49/50\n",
            "10/10 [==============================] - 410s 41s/step - loss: 0.0237 - accuracy: 0.9939 - val_loss: 0.0692 - val_accuracy: 0.9782\n",
            "Epoch 50/50\n",
            "10/10 [==============================] - 410s 42s/step - loss: 0.0203 - accuracy: 0.9941 - val_loss: 0.0692 - val_accuracy: 0.9782\n"
          ]
        }
      ]
    }
  ]
}