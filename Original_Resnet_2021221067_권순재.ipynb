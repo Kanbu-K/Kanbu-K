{
  "cells": [
    {
      "cell_type": "code",
      "execution_count": null,
      "metadata": {
        "colab": {
          "base_uri": "https://localhost:8080/"
        },
        "id": "FzMZGqs5bUe8",
        "outputId": "612d4a80-9882-4625-e262-008b91c62edc"
      },
      "outputs": [
        {
          "name": "stdout",
          "output_type": "stream",
          "text": [
            "Looking in indexes: https://pypi.org/simple, https://us-python.pkg.dev/colab-wheels/public/simple/\n",
            "Collecting git+https://github.com/nockchun/rspy\n",
            "  Cloning https://github.com/nockchun/rspy to /tmp/pip-req-build-u7jwpr_d\n",
            "  Running command git clone -q https://github.com/nockchun/rspy /tmp/pip-req-build-u7jwpr_d\n",
            "Building wheels for collected packages: rspy\n",
            "  Building wheel for rspy (setup.py) ... \u001b[?25l\u001b[?25hdone\n",
            "  Created wheel for rspy: filename=rspy-0.1.0-py3-none-any.whl size=14787 sha256=c23edc80c76b1daa2cdace0af67c7c4e86f2b4b7f2540c520b1a9d2f01c0c461\n",
            "  Stored in directory: /tmp/pip-ephem-wheel-cache-l1alr0wx/wheels/20/ff/e3/eb5e5c1c9d6edb3edd30dd1d8b4715eb4cc696ac40dcd46143\n",
            "Successfully built rspy\n",
            "Installing collected packages: rspy\n",
            "Successfully installed rspy-0.1.0\n"
          ]
        }
      ],
      "source": [
        "!pip install git+https://github.com/nockchun/rspy --force"
      ]
    },
    {
      "cell_type": "code",
      "execution_count": null,
      "metadata": {
        "colab": {
          "base_uri": "https://localhost:8080/"
        },
        "id": "0kf8YNhCcYuE",
        "outputId": "690f8629-0f21-4273-ef92-fd376d6a17f2"
      },
      "outputs": [
        {
          "name": "stdout",
          "output_type": "stream",
          "text": [
            "Looking in indexes: https://pypi.org/simple, https://us-python.pkg.dev/colab-wheels/public/simple/\n",
            "Requirement already satisfied: mybatis_mapper2sql in /usr/local/lib/python3.7/dist-packages (0.1.9)\n",
            "Requirement already satisfied: sqlparse>=0.2.4 in /usr/local/lib/python3.7/dist-packages (from mybatis_mapper2sql) (0.4.2)\n"
          ]
        }
      ],
      "source": [
        "!pip install mybatis_mapper2sql"
      ]
    },
    {
      "cell_type": "code",
      "execution_count": null,
      "metadata": {
        "colab": {
          "base_uri": "https://localhost:8080/"
        },
        "id": "SUiMWxBTchRP",
        "outputId": "3cc02a0c-d872-4018-ad20-0770ca2a2d7a"
      },
      "outputs": [
        {
          "name": "stderr",
          "output_type": "stream",
          "text": [
            "/usr/local/lib/python3.7/dist-packages/psycopg2/__init__.py:144: UserWarning: The psycopg2 wheel package will be renamed from release 2.8; in order to keep installing from binary please use \"pip install psycopg2-binary\" instead. For details see: <http://initd.org/psycopg/docs/install.html#binary-install-from-pypi>.\n",
            "  \"\"\")\n"
          ]
        }
      ],
      "source": [
        "import rspy as rsp\n",
        "rsp.setSystemWarning(off=True)\n",
        "rsp.fixMemoryProblem()"
      ]
    },
    {
      "cell_type": "code",
      "execution_count": null,
      "metadata": {
        "id": "yPiDu3sBcwTy"
      },
      "outputs": [],
      "source": [
        "import numpy as np"
      ]
    },
    {
      "cell_type": "code",
      "execution_count": null,
      "metadata": {
        "id": "SLBpLawadOqv"
      },
      "outputs": [],
      "source": [
        "import tensorflow as tf\n",
        "from tensorflow.keras import layers, models, losses, optimizers, datasets, preprocessing, utils"
      ]
    },
    {
      "cell_type": "code",
      "execution_count": null,
      "metadata": {
        "id": "y6cUHJx0dean"
      },
      "outputs": [],
      "source": [
        "from ipywidgets import interact\n",
        "import matplotlib.pyplot as plt\n",
        "import pandas as pd "
      ]
    },
    {
      "cell_type": "code",
      "execution_count": null,
      "metadata": {
        "colab": {
          "base_uri": "https://localhost:8080/",
          "height": 35
        },
        "id": "atv0Sy3ZdpRH",
        "outputId": "df7aabda-4651-48eb-82ee-b391783db679"
      },
      "outputs": [
        {
          "data": {
            "application/vnd.google.colaboratory.intrinsic+json": {
              "type": "string"
            },
            "text/plain": [
              "'2.8.2'"
            ]
          },
          "execution_count": 9,
          "metadata": {},
          "output_type": "execute_result"
        }
      ],
      "source": [
        "np.set_printoptions(linewidth=200, precision=2)\n",
        "tf.__version__"
      ]
    },
    {
      "cell_type": "code",
      "execution_count": null,
      "metadata": {
        "colab": {
          "base_uri": "https://localhost:8080/"
        },
        "id": "i22byIjKd6jd",
        "outputId": "e426d385-9904-4577-985a-aec1ea7ccaf0"
      },
      "outputs": [
        {
          "name": "stdout",
          "output_type": "stream",
          "text": [
            "Downloading data from https://www.cs.toronto.edu/~kriz/cifar-10-python.tar.gz\n",
            "170500096/170498071 [==============================] - 2s 0us/step\n",
            "170508288/170498071 [==============================] - 2s 0us/step\n"
          ]
        },
        {
          "data": {
            "text/plain": [
              "((50000, 32, 32, 3), (50000, 1), (10000, 32, 32, 3), (10000, 1))"
            ]
          },
          "execution_count": 10,
          "metadata": {},
          "output_type": "execute_result"
        }
      ],
      "source": [
        "(train_data, train_label), (test_data, test_label) = datasets.cifar10.load_data()\n",
        "train_data.shape, train_label.shape, test_data.shape, test_label.shape"
      ]
    },
    {
      "cell_type": "code",
      "execution_count": null,
      "metadata": {
        "colab": {
          "base_uri": "https://localhost:8080/",
          "height": 35
        },
        "id": "Ctvx2B-Ve05P",
        "outputId": "f79a5b7f-b684-41ca-8afc-be1e56ce2e4c"
      },
      "outputs": [
        {
          "data": {
            "application/vnd.google.colaboratory.intrinsic+json": {
              "type": "string"
            },
            "text/plain": [
              "'Train labels: {0: 5000, 1: 5000, 2: 5000, 3: 5000, 4: 5000, 5: 5000, 6: 5000, 7: 5000, 8: 5000, 9: 5000}'"
            ]
          },
          "execution_count": 11,
          "metadata": {},
          "output_type": "execute_result"
        }
      ],
      "source": [
        "unique, counts = np.unique(train_label, return_counts=True)\n",
        "num_labels = len(unique)\n",
        "f\"Train labels: {dict(zip(unique, counts))}\""
      ]
    },
    {
      "cell_type": "code",
      "execution_count": null,
      "metadata": {
        "id": "5i2v1xAHfI6v"
      },
      "outputs": [],
      "source": [
        "train_data_proc = train_data / 255\n",
        "test_data_proc = test_data / 255\n",
        "\n",
        "train_label_proc = utils.to_categorical(train_label, 10)\n",
        "test_label_proc = utils.to_categorical(test_label, 10)"
      ]
    },
    {
      "cell_type": "code",
      "execution_count": null,
      "metadata": {
        "id": "3Pb1PzNDfcJx"
      },
      "outputs": [],
      "source": [
        "image_gen = preprocessing.image.ImageDataGenerator(\n",
        "    width_shift_range=0.3,\n",
        "    height_shift_range=0.3,\n",
        "    horizontal_flip=True,\n",
        "    rotation_range=20,\n",
        "    shear_range=0.05,\n",
        "    zoom_range=0.3\n",
        ")\n",
        "train_gen = image_gen.flow(train_data_proc, train_label_proc, batch_size=128)"
      ]
    },
    {
      "cell_type": "code",
      "execution_count": null,
      "metadata": {
        "id": "FX2294EGf_FQ"
      },
      "outputs": [],
      "source": [
        "mInput = layers.Input((32, 32, 3))"
      ]
    },
    {
      "cell_type": "code",
      "execution_count": null,
      "metadata": {
        "id": "8GmrxissgQi6"
      },
      "outputs": [],
      "source": [
        "mB1 = layers.Conv2D(128, 3, padding=\"same\", activation=\"relu\", name=\"B1_Conv_1\")(mInput)\n",
        "mB1 = layers.BatchNormalization(name=\"B1_Norm_1\")(mB1)\n",
        "mB1 = layers.Conv2D(128, 3, padding=\"same\", activation=\"relu\", name=\"B1_Conv_2\")(mB1)\n",
        "mB1 = layers.BatchNormalization(name=\"B1_Norm_2\")(mB1)\n",
        "mB1 = layers.MaxPool2D(2, strides=1, name=\"B1_Pool\")(mB1)\n",
        "mB1 = layers.Dropout(0.5, name=\"B1_Drop\")(mB1)"
      ]
    },
    {
      "cell_type": "code",
      "execution_count": null,
      "metadata": {
        "id": "kaPAMNhUhNIj"
      },
      "outputs": [],
      "source": [
        "mB2 = layers.Conv2D(128, 3, padding=\"same\", activation=\"relu\", name=\"B2_Conv_1\")(mB1)\n",
        "mB2 = layers.BatchNormalization(name=\"B2_Norm_1\")(mB2)\n",
        "mB2 = layers.Conv2D(256, 3, dilation_rate=2, activation=\"relu\", name=\"B2_Conv_2\")(mB2)\n",
        "mB2 = layers.BatchNormalization(name=\"B2_Norm_2\")(mB2)\n",
        "mB2 = layers.MaxPool2D(2, strides=1, name=\"B2_Pool\")(mB2)\n",
        "mB2 = layers.Dropout(0.5, name=\"B2_Drop\")(mB2)"
      ]
    },
    {
      "cell_type": "code",
      "execution_count": null,
      "metadata": {
        "id": "6o6Dh-GciDMO"
      },
      "outputs": [],
      "source": [
        "mB3 = layers.Conv2D(256, 3, padding=\"same\", activation=\"relu\", name=\"B3_Conv_1\")(mB2)\n",
        "mB3 = layers.BatchNormalization(name=\"B3_Norm_1\")(mB3)\n",
        "mB3 = layers.Conv2D(512, 3, padding=\"same\", dilation_rate=2, activation=\"relu\", name=\"B3_Conv_2\")(mB3)\n",
        "mB3 = layers.BatchNormalization(name=\"B3_Norm_2\")(mB3)\n",
        "mB3Pool = layers.MaxPool2D(2, strides=1, name=\"B3_Pool\")(mB3)\n",
        "mB3 = layers.Dropout(0.5, name=\"B3_Drop\")(mB3Pool)"
      ]
    },
    {
      "cell_type": "code",
      "execution_count": null,
      "metadata": {
        "id": "3Q-1WG7MicOn"
      },
      "outputs": [],
      "source": [
        "mB4 = layers.Conv2D(256, 3, padding=\"same\", activation=\"relu\", name=\"B4_Conv_1\")(mB3)\n",
        "mB4 = layers.BatchNormalization(name=\"B4_Norm_1\")(mB4)\n",
        "mB4 = layers.Conv2D(512, 3, padding=\"same\", activation=\"relu\", name=\"B4_Conv_2\")(mB4)\n",
        "mB4 = layers.add([mB4, mB3Pool], name=\"B4_Add\")\n",
        "mB4Nor = layers.BatchNormalization(name=\"B4_Norm_2\")(mB4)\n",
        "mB4Dout = layers.Dropout(0.5, name=\"B4_Drop\")(mB4Nor)"
      ]
    },
    {
      "cell_type": "code",
      "execution_count": null,
      "metadata": {
        "id": "eIFeEn-3jDnC"
      },
      "outputs": [],
      "source": [
        "mB5 = layers.Conv2D(256, 3, dilation_rate=2, padding=\"same\", activation=\"relu\", name=\"B5_Conv_1\")(mB4Nor)\n",
        "mB5 = layers.BatchNormalization(name=\"B5_Norm\")(mB5)\n",
        "mB5 = layers.Conv2D(512, 3, dilation_rate=3, padding=\"same\", activation=\"relu\", name=\"B5_Conv_2\")(mB5)"
      ]
    },
    {
      "cell_type": "code",
      "execution_count": null,
      "metadata": {
        "id": "cIbJ8Crhj9h0"
      },
      "outputs": [],
      "source": [
        "mB6 = layers.Conv2D(256, 5, padding=\"same\", activation=\"relu\", name=\"B6_Conv_1\")(mB4Nor)\n",
        "mB6 = layers.BatchNormalization(name=\"B6_Norm\")(mB6)\n",
        "mB6 = layers.Conv2D(512, 5, padding=\"same\", activation=\"relu\", name=\"B6_Conv_2\")(mB6)"
      ]
    },
    {
      "cell_type": "code",
      "execution_count": null,
      "metadata": {
        "id": "tP5Iqv0JtKRV"
      },
      "outputs": [],
      "source": [
        "mB7 = layers.Conv2D(256, 3, padding=\"same\", activation=\"relu\", name=\"B7_Conv_1\")(mB4Dout)\n",
        "mB7 = layers.BatchNormalization(name=\"B7_Norm_1\")(mB7)\n",
        "mB7 = layers.Conv2D(512, 3, padding=\"same\", activation=\"relu\", name=\"B7_Conv_2\")(mB7)\n",
        "mB7 = layers.add([mB5, mB6, mB7], name=\"B7_Add\")\n",
        "mB7 = layers.BatchNormalization(name=\"B7_Norm_2\")(mB7)\n",
        "mB7 = layers.Dropout(0.5, name=\"B7_Drop\")(mB7)"
      ]
    },
    {
      "cell_type": "code",
      "execution_count": null,
      "metadata": {
        "id": "1gRsECuC3d9I"
      },
      "outputs": [],
      "source": [
        "mB8 = layers.Conv2D(256, 3, padding=\"same\", activation=\"relu\", name=\"B8_Conv_1\")(mB7)\n",
        "mB8 = layers.BatchNormalization(name=\"B8_Norm_1\")(mB8)\n",
        "mB8 = layers.Conv2D(512, 3, padding=\"same\", dilation_rate=2, activation=\"relu\", name=\"B8_Conv_2\")(mB8)\n",
        "mB8 = layers.add([mB3Pool, mB5, mB7, mB8], name=\"B8_Add\")\n",
        "mB8 = layers.BatchNormalization(name=\"B8_Norm_2\")(mB8)\n",
        "mB8 = layers.Dropout(0.5, name=\"B8_Drop\")(mB8)"
      ]
    },
    {
      "cell_type": "code",
      "execution_count": null,
      "metadata": {
        "id": "xzkSvQPJ4-63"
      },
      "outputs": [],
      "source": [
        "mB9 = layers.Conv2D(512, 3, activation=\"relu\", name=\"B9_Conv_1\")(mB8)\n",
        "mB9 = layers.BatchNormalization(name=\"B9_Norm_1\")(mB9)\n",
        "mB9 = layers.Conv2D(512, 3, dilation_rate=2, activation=\"relu\", name=\"B9_Conv_2\")(mB9)\n",
        "mB9 = layers.BatchNormalization(name=\"B9_Norm_2\")(mB9)\n",
        "mB9 = layers.MaxPool2D(2, name=\"B9_Pool\")(mB9)\n",
        "mB9 = layers.Dropout(0.5, name=\"B9_Drop\")(mB9)"
      ]
    },
    {
      "cell_type": "code",
      "execution_count": null,
      "metadata": {
        "id": "ssf7PgbS5mq-"
      },
      "outputs": [],
      "source": [
        "mB10 = layers.Conv2D(1024, 3, padding=\"same\", activation=\"relu\", name=\"B8_Conv\")(mB9)\n",
        "mB10 = layers.GlobalAveragePooling2D(name=\"B10_Pool\")(mB10)\n",
        "mB10 = layers.BatchNormalization(name=\"B10_Norm\")(mB10)"
      ]
    },
    {
      "cell_type": "code",
      "execution_count": null,
      "metadata": {
        "id": "s4L3GumL66-n"
      },
      "outputs": [],
      "source": [
        "mOutput = layers.Dense(10, activation=\"softmax\", name=\"Output\")(mB10)"
      ]
    },
    {
      "cell_type": "code",
      "execution_count": null,
      "metadata": {
        "colab": {
          "base_uri": "https://localhost:8080/"
        },
        "id": "Oz1LSO0P7EGO",
        "outputId": "5640e962-b800-4952-fc47-a261e1311acf"
      },
      "outputs": [
        {
          "name": "stdout",
          "output_type": "stream",
          "text": [
            "Model: \"model\"\n",
            "__________________________________________________________________________________________________\n",
            " Layer (type)                   Output Shape         Param #     Connected to                     \n",
            "==================================================================================================\n",
            " input_1 (InputLayer)           [(None, 32, 32, 3)]  0           []                               \n",
            "                                                                                                  \n",
            " B1_Conv_1 (Conv2D)             (None, 32, 32, 128)  3584        ['input_1[0][0]']                \n",
            "                                                                                                  \n",
            " B1_Norm_1 (BatchNormalization)  (None, 32, 32, 128)  512        ['B1_Conv_1[0][0]']              \n",
            "                                                                                                  \n",
            " B1_Conv_2 (Conv2D)             (None, 32, 32, 128)  147584      ['B1_Norm_1[0][0]']              \n",
            "                                                                                                  \n",
            " B1_Norm_2 (BatchNormalization)  (None, 32, 32, 128)  512        ['B1_Conv_2[0][0]']              \n",
            "                                                                                                  \n",
            " B1_Pool (MaxPooling2D)         (None, 31, 31, 128)  0           ['B1_Norm_2[0][0]']              \n",
            "                                                                                                  \n",
            " B1_Drop (Dropout)              (None, 31, 31, 128)  0           ['B1_Pool[0][0]']                \n",
            "                                                                                                  \n",
            " B2_Conv_1 (Conv2D)             (None, 31, 31, 128)  147584      ['B1_Drop[0][0]']                \n",
            "                                                                                                  \n",
            " B2_Norm_1 (BatchNormalization)  (None, 31, 31, 128)  512        ['B2_Conv_1[0][0]']              \n",
            "                                                                                                  \n",
            " B2_Conv_2 (Conv2D)             (None, 27, 27, 256)  295168      ['B2_Norm_1[0][0]']              \n",
            "                                                                                                  \n",
            " B2_Norm_2 (BatchNormalization)  (None, 27, 27, 256)  1024       ['B2_Conv_2[0][0]']              \n",
            "                                                                                                  \n",
            " B2_Pool (MaxPooling2D)         (None, 26, 26, 256)  0           ['B2_Norm_2[0][0]']              \n",
            "                                                                                                  \n",
            " B2_Drop (Dropout)              (None, 26, 26, 256)  0           ['B2_Pool[0][0]']                \n",
            "                                                                                                  \n",
            " B3_Conv_1 (Conv2D)             (None, 26, 26, 256)  590080      ['B2_Drop[0][0]']                \n",
            "                                                                                                  \n",
            " B3_Norm_1 (BatchNormalization)  (None, 26, 26, 256)  1024       ['B3_Conv_1[0][0]']              \n",
            "                                                                                                  \n",
            " B3_Conv_2 (Conv2D)             (None, 26, 26, 512)  1180160     ['B3_Norm_1[0][0]']              \n",
            "                                                                                                  \n",
            " B3_Norm_2 (BatchNormalization)  (None, 26, 26, 512)  2048       ['B3_Conv_2[0][0]']              \n",
            "                                                                                                  \n",
            " B3_Pool (MaxPooling2D)         (None, 25, 25, 512)  0           ['B3_Norm_2[0][0]']              \n",
            "                                                                                                  \n",
            " B3_Drop (Dropout)              (None, 25, 25, 512)  0           ['B3_Pool[0][0]']                \n",
            "                                                                                                  \n",
            " B4_Conv_1 (Conv2D)             (None, 25, 25, 256)  1179904     ['B3_Drop[0][0]']                \n",
            "                                                                                                  \n",
            " B4_Norm_1 (BatchNormalization)  (None, 25, 25, 256)  1024       ['B4_Conv_1[0][0]']              \n",
            "                                                                                                  \n",
            " B4_Conv_2 (Conv2D)             (None, 25, 25, 512)  1180160     ['B4_Norm_1[0][0]']              \n",
            "                                                                                                  \n",
            " B4_Add (Add)                   (None, 25, 25, 512)  0           ['B4_Conv_2[0][0]',              \n",
            "                                                                  'B3_Pool[0][0]']                \n",
            "                                                                                                  \n",
            " B4_Norm_2 (BatchNormalization)  (None, 25, 25, 512)  2048       ['B4_Add[0][0]']                 \n",
            "                                                                                                  \n",
            " B4_Drop (Dropout)              (None, 25, 25, 512)  0           ['B4_Norm_2[0][0]']              \n",
            "                                                                                                  \n",
            " B5_Conv_1 (Conv2D)             (None, 25, 25, 256)  1179904     ['B4_Norm_2[0][0]']              \n",
            "                                                                                                  \n",
            " B6_Conv_1 (Conv2D)             (None, 25, 25, 256)  3277056     ['B4_Norm_2[0][0]']              \n",
            "                                                                                                  \n",
            " B7_Conv_1 (Conv2D)             (None, 25, 25, 256)  1179904     ['B4_Drop[0][0]']                \n",
            "                                                                                                  \n",
            " B5_Norm (BatchNormalization)   (None, 25, 25, 256)  1024        ['B5_Conv_1[0][0]']              \n",
            "                                                                                                  \n",
            " B6_Norm (BatchNormalization)   (None, 25, 25, 256)  1024        ['B6_Conv_1[0][0]']              \n",
            "                                                                                                  \n",
            " B7_Norm_1 (BatchNormalization)  (None, 25, 25, 256)  1024       ['B7_Conv_1[0][0]']              \n",
            "                                                                                                  \n",
            " B5_Conv_2 (Conv2D)             (None, 25, 25, 512)  1180160     ['B5_Norm[0][0]']                \n",
            "                                                                                                  \n",
            " B6_Conv_2 (Conv2D)             (None, 25, 25, 512)  3277312     ['B6_Norm[0][0]']                \n",
            "                                                                                                  \n",
            " B7_Conv_2 (Conv2D)             (None, 25, 25, 512)  1180160     ['B7_Norm_1[0][0]']              \n",
            "                                                                                                  \n",
            " B7_Add (Add)                   (None, 25, 25, 512)  0           ['B5_Conv_2[0][0]',              \n",
            "                                                                  'B6_Conv_2[0][0]',              \n",
            "                                                                  'B7_Conv_2[0][0]']              \n",
            "                                                                                                  \n",
            " B7_Norm_2 (BatchNormalization)  (None, 25, 25, 512)  2048       ['B7_Add[0][0]']                 \n",
            "                                                                                                  \n",
            " B7_Drop (Dropout)              (None, 25, 25, 512)  0           ['B7_Norm_2[0][0]']              \n",
            "                                                                                                  \n",
            " B8_Conv_1 (Conv2D)             (None, 25, 25, 256)  1179904     ['B7_Drop[0][0]']                \n",
            "                                                                                                  \n",
            " B8_Norm_1 (BatchNormalization)  (None, 25, 25, 256)  1024       ['B8_Conv_1[0][0]']              \n",
            "                                                                                                  \n",
            " B8_Conv_2 (Conv2D)             (None, 25, 25, 512)  1180160     ['B8_Norm_1[0][0]']              \n",
            "                                                                                                  \n",
            " B8_Add (Add)                   (None, 25, 25, 512)  0           ['B3_Pool[0][0]',                \n",
            "                                                                  'B5_Conv_2[0][0]',              \n",
            "                                                                  'B7_Drop[0][0]',                \n",
            "                                                                  'B8_Conv_2[0][0]']              \n",
            "                                                                                                  \n",
            " B8_Norm_2 (BatchNormalization)  (None, 25, 25, 512)  2048       ['B8_Add[0][0]']                 \n",
            "                                                                                                  \n",
            " B8_Drop (Dropout)              (None, 25, 25, 512)  0           ['B8_Norm_2[0][0]']              \n",
            "                                                                                                  \n",
            " B9_Conv_1 (Conv2D)             (None, 23, 23, 512)  2359808     ['B8_Drop[0][0]']                \n",
            "                                                                                                  \n",
            " B9_Norm_1 (BatchNormalization)  (None, 23, 23, 512)  2048       ['B9_Conv_1[0][0]']              \n",
            "                                                                                                  \n",
            " B9_Conv_2 (Conv2D)             (None, 19, 19, 512)  2359808     ['B9_Norm_1[0][0]']              \n",
            "                                                                                                  \n",
            " B9_Norm_2 (BatchNormalization)  (None, 19, 19, 512)  2048       ['B9_Conv_2[0][0]']              \n",
            "                                                                                                  \n",
            " B9_Pool (MaxPooling2D)         (None, 9, 9, 512)    0           ['B9_Norm_2[0][0]']              \n",
            "                                                                                                  \n",
            " B9_Drop (Dropout)              (None, 9, 9, 512)    0           ['B9_Pool[0][0]']                \n",
            "                                                                                                  \n",
            " B8_Conv (Conv2D)               (None, 9, 9, 1024)   4719616     ['B9_Drop[0][0]']                \n",
            "                                                                                                  \n",
            " B10_Pool (GlobalAveragePooling  (None, 1024)        0           ['B8_Conv[0][0]']                \n",
            " 2D)                                                                                              \n",
            "                                                                                                  \n",
            " B10_Norm (BatchNormalization)  (None, 1024)         4096        ['B10_Pool[0][0]']               \n",
            "                                                                                                  \n",
            " Output (Dense)                 (None, 10)           10250       ['B10_Norm[0][0]']               \n",
            "                                                                                                  \n",
            "==================================================================================================\n",
            "Total params: 27,833,354\n",
            "Trainable params: 27,820,810\n",
            "Non-trainable params: 12,544\n",
            "__________________________________________________________________________________________________\n"
          ]
        }
      ],
      "source": [
        "model = models.Model(mInput, mOutput)\n",
        "model.summary()"
      ]
    },
    {
      "cell_type": "code",
      "execution_count": null,
      "metadata": {
        "id": "KsThwyCtqCzJ"
      },
      "outputs": [],
      "source": [
        "model.compile(\n",
        "    loss=losses.CategoricalCrossentropy(),\n",
        "    optimizer=optimizers.Adam(),\n",
        "    metrics=[\"accuracy\"],\n",
        ")"
      ]
    },
    {
      "cell_type": "code",
      "source": [
        "import torch\n",
        "import torch.nn as nn\n",
        "import torch.optim as optim\n",
        "import torch.nn.functional as F\n",
        "from torchvision import transforms, datasets, models"
      ],
      "metadata": {
        "id": "3jkgp-TmKVpo"
      },
      "execution_count": 4,
      "outputs": []
    },
    {
      "cell_type": "code",
      "source": [
        "USE_CUDA = torch.cuda.is_available()\n",
        "DEVICE = torch.device(\"cuda\" if USE_CUDA else \"cpu\")"
      ],
      "metadata": {
        "id": "z-iJz9kVOWQM"
      },
      "execution_count": 5,
      "outputs": []
    },
    {
      "cell_type": "code",
      "source": [
        "EPOCHS     = 300\n",
        "BATCH_SIZE = 128"
      ],
      "metadata": {
        "id": "j0ODjGogOkKO"
      },
      "execution_count": 6,
      "outputs": []
    },
    {
      "cell_type": "code",
      "source": [
        "train_loader = torch.utils.data.DataLoader(\n",
        "    datasets.CIFAR10('./.data',\n",
        "                     train=True,\n",
        "                     download=True,\n",
        "                     transform=transforms.Compose([\n",
        "                         transforms.RandomCrop(32, padding=4),\n",
        "                         transforms.RandomHorizontalFlip(),\n",
        "                         transforms.ToTensor(),\n",
        "                         transforms.Normalize((0.5, 0.5, 0.5),\n",
        "                                              (0.5, 0.5, 0.5))])),\n",
        "    batch_size=BATCH_SIZE, shuffle=True)\n",
        "test_loader = torch.utils.data.DataLoader(\n",
        "    datasets.CIFAR10('./.data',\n",
        "                   train=False,\n",
        "                   transform=transforms.Compose([\n",
        "                       transforms.ToTensor(),\n",
        "                       transforms.Normalize((0.5, 0.5, 0.5),\n",
        "                                            (0.5, 0.5, 0.5))])), \n",
        "    batch_size=BATCH_SIZE, shuffle=True)"
      ],
      "metadata": {
        "colab": {
          "base_uri": "https://localhost:8080/",
          "height": 86,
          "referenced_widgets": [
            "3e70441361524095bca2e1f5f522b94a",
            "0e8d7779c333407d89b30df9567aa948",
            "28c3c1ee42884a4e8afe8d5820f35820",
            "9afb9e60b3ab4ca48ec34b230cbc9c0a",
            "d83ae52c20dd49d8bfce2b14d8829632",
            "f5be9158a48b493790ea922a5f12cf16",
            "05ab591fe731455595575decbb7fb2b6",
            "d96a4e9d3e6949f1a3df628decb19088",
            "61047774bb374d38a58b351655d7ebcf",
            "1a789679f0334c89be4ae565dc72644d",
            "826863e82d294d72a2b7b8387e5ce789"
          ]
        },
        "id": "lewr7jTuOGlP",
        "outputId": "dea0e1b8-8c40-441b-9d85-199fefef50a0"
      },
      "execution_count": 7,
      "outputs": [
        {
          "output_type": "stream",
          "name": "stdout",
          "text": [
            "Downloading https://www.cs.toronto.edu/~kriz/cifar-10-python.tar.gz to ./.data/cifar-10-python.tar.gz\n"
          ]
        },
        {
          "output_type": "display_data",
          "data": {
            "text/plain": [
              "  0%|          | 0/170498071 [00:00<?, ?it/s]"
            ],
            "application/vnd.jupyter.widget-view+json": {
              "version_major": 2,
              "version_minor": 0,
              "model_id": "3e70441361524095bca2e1f5f522b94a"
            }
          },
          "metadata": {}
        },
        {
          "output_type": "stream",
          "name": "stdout",
          "text": [
            "Extracting ./.data/cifar-10-python.tar.gz to ./.data\n"
          ]
        }
      ]
    },
    {
      "cell_type": "code",
      "source": [
        "class BasicBlock(nn.Module):\n",
        "    def __init__(self, in_planes, planes, stride=1):\n",
        "        super(BasicBlock, self).__init__()\n",
        "        self.conv1 = nn.Conv2d(in_planes, planes, kernel_size=3,\n",
        "                               stride=stride, padding=1, bias=False)\n",
        "        self.bn1 = nn.BatchNorm2d(planes)\n",
        "        self.conv2 = nn.Conv2d(planes, planes, kernel_size=3,\n",
        "                               stride=1, padding=1, bias=False)\n",
        "        self.bn2 = nn.BatchNorm2d(planes)\n",
        "\n",
        "        self.shortcut = nn.Sequential()\n",
        "        if stride != 1 or in_planes != planes:\n",
        "            self.shortcut = nn.Sequential(\n",
        "                nn.Conv2d(in_planes, planes,\n",
        "                          kernel_size=1, stride=stride, bias=False),\n",
        "                nn.BatchNorm2d(planes)\n",
        "            )\n",
        "\n",
        "    def forward(self, x):\n",
        "        out = F.relu(self.bn1(self.conv1(x)))\n",
        "        out = self.bn2(self.conv2(out))\n",
        "        out += self.shortcut(x)\n",
        "        out = F.relu(out)\n",
        "        return out\n",
        "\n",
        "\n",
        "class ResNet(nn.Module):\n",
        "    def __init__(self, num_classes=10):\n",
        "        super(ResNet, self).__init__()\n",
        "        self.in_planes = 16\n",
        "\n",
        "        self.conv1 = nn.Conv2d(3, 16, kernel_size=3,\n",
        "                               stride=1, padding=1, bias=False)\n",
        "        self.bn1 = nn.BatchNorm2d(16)\n",
        "        self.layer1 = self._make_layer(16, 2, stride=1)\n",
        "        self.layer2 = self._make_layer(32, 2, stride=2)\n",
        "        self.layer3 = self._make_layer(64, 2, stride=2)\n",
        "        self.linear = nn.Linear(64, num_classes)\n",
        "\n",
        "    def _make_layer(self, planes, num_blocks, stride):\n",
        "        strides = [stride] + [1]*(num_blocks-1)\n",
        "        layers = []\n",
        "        for stride in strides:\n",
        "            layers.append(BasicBlock(self.in_planes, planes, stride))\n",
        "            self.in_planes = planes\n",
        "        return nn.Sequential(*layers)\n",
        "\n",
        "    def forward(self, x):\n",
        "        out = F.relu(self.bn1(self.conv1(x)))\n",
        "        out = self.layer1(out)\n",
        "        out = self.layer2(out)\n",
        "        out = self.layer3(out)\n",
        "        out = F.avg_pool2d(out, 8)\n",
        "        out = out.view(out.size(0), -1)\n",
        "        out = self.linear(out)\n",
        "        return out\n",
        "\n",
        "\n",
        "# ## 준비\n",
        "\n",
        "model = ResNet().to(DEVICE)\n",
        "optimizer = optim.SGD(model.parameters(), lr=0.1,\n",
        "                      momentum=0.9, weight_decay=0.0005)\n",
        "scheduler = optim.lr_scheduler.StepLR(optimizer, step_size=50, gamma=0.1)\n",
        "\n",
        "\n",
        "print(model)\n",
        "\n",
        "\n",
        "# ## 학습하기\n",
        "\n",
        "def train(model, train_loader, optimizer, epoch):\n",
        "    model.train()\n",
        "    for batch_idx, (data, target) in enumerate(train_loader):\n",
        "        data, target = data.to(DEVICE), target.to(DEVICE)\n",
        "        optimizer.zero_grad()\n",
        "        output = model(data)\n",
        "        loss = F.cross_entropy(output, target)\n",
        "        loss.backward()\n",
        "        optimizer.step()\n",
        "\n",
        "\n",
        "# ## 테스트하기\n",
        "\n",
        "def evaluate(model, test_loader):\n",
        "    model.eval()\n",
        "    test_loss = 0\n",
        "    correct = 0\n",
        "    with torch.no_grad():\n",
        "        for data, target in test_loader:\n",
        "            data, target = data.to(DEVICE), target.to(DEVICE)\n",
        "            output = model(data)\n",
        "\n",
        "            # 배치 오차를 합산\n",
        "            test_loss += F.cross_entropy(output, target,\n",
        "                                         reduction='sum').item()\n",
        "\n",
        "            # 가장 높은 값을 가진 인덱스가 바로 예측값\n",
        "            pred = output.max(1, keepdim=True)[1]\n",
        "            correct += pred.eq(target.view_as(pred)).sum().item()\n",
        "\n",
        "    test_loss /= len(test_loader.dataset)\n",
        "    test_accuracy = 100. * correct / len(test_loader.dataset)\n",
        "    return test_loss, test_accuracy\n",
        "\n",
        "\n",
        "# ## 코드 돌려보기\n",
        "# 자, 이제 모든 준비가 끝났습니다. 코드를 돌려서 실제로 훈련이 되는지 확인해봅시다!\n",
        "\n",
        "for epoch in range(1, EPOCHS + 1):\n",
        "    scheduler.step()\n",
        "    train(model, train_loader, optimizer, epoch)\n",
        "    test_loss, test_accuracy = evaluate(model, test_loader)\n",
        "    \n",
        "    print('[{}] Test Loss: {:.4f}, Accuracy: {:.2f}%'.format(\n",
        "          epoch, test_loss, test_accuracy))"
      ],
      "metadata": {
        "colab": {
          "base_uri": "https://localhost:8080/"
        },
        "id": "Oro568WAc_Ge",
        "outputId": "e02fe022-81ec-426e-c606-8f7c8f9e300a"
      },
      "execution_count": 15,
      "outputs": [
        {
          "output_type": "stream",
          "name": "stdout",
          "text": [
            "ResNet(\n",
            "  (conv1): Conv2d(3, 16, kernel_size=(3, 3), stride=(1, 1), padding=(1, 1), bias=False)\n",
            "  (bn1): BatchNorm2d(16, eps=1e-05, momentum=0.1, affine=True, track_running_stats=True)\n",
            "  (layer1): Sequential(\n",
            "    (0): BasicBlock(\n",
            "      (conv1): Conv2d(16, 16, kernel_size=(3, 3), stride=(1, 1), padding=(1, 1), bias=False)\n",
            "      (bn1): BatchNorm2d(16, eps=1e-05, momentum=0.1, affine=True, track_running_stats=True)\n",
            "      (conv2): Conv2d(16, 16, kernel_size=(3, 3), stride=(1, 1), padding=(1, 1), bias=False)\n",
            "      (bn2): BatchNorm2d(16, eps=1e-05, momentum=0.1, affine=True, track_running_stats=True)\n",
            "      (shortcut): Sequential()\n",
            "    )\n",
            "    (1): BasicBlock(\n",
            "      (conv1): Conv2d(16, 16, kernel_size=(3, 3), stride=(1, 1), padding=(1, 1), bias=False)\n",
            "      (bn1): BatchNorm2d(16, eps=1e-05, momentum=0.1, affine=True, track_running_stats=True)\n",
            "      (conv2): Conv2d(16, 16, kernel_size=(3, 3), stride=(1, 1), padding=(1, 1), bias=False)\n",
            "      (bn2): BatchNorm2d(16, eps=1e-05, momentum=0.1, affine=True, track_running_stats=True)\n",
            "      (shortcut): Sequential()\n",
            "    )\n",
            "  )\n",
            "  (layer2): Sequential(\n",
            "    (0): BasicBlock(\n",
            "      (conv1): Conv2d(16, 32, kernel_size=(3, 3), stride=(2, 2), padding=(1, 1), bias=False)\n",
            "      (bn1): BatchNorm2d(32, eps=1e-05, momentum=0.1, affine=True, track_running_stats=True)\n",
            "      (conv2): Conv2d(32, 32, kernel_size=(3, 3), stride=(1, 1), padding=(1, 1), bias=False)\n",
            "      (bn2): BatchNorm2d(32, eps=1e-05, momentum=0.1, affine=True, track_running_stats=True)\n",
            "      (shortcut): Sequential(\n",
            "        (0): Conv2d(16, 32, kernel_size=(1, 1), stride=(2, 2), bias=False)\n",
            "        (1): BatchNorm2d(32, eps=1e-05, momentum=0.1, affine=True, track_running_stats=True)\n",
            "      )\n",
            "    )\n",
            "    (1): BasicBlock(\n",
            "      (conv1): Conv2d(32, 32, kernel_size=(3, 3), stride=(1, 1), padding=(1, 1), bias=False)\n",
            "      (bn1): BatchNorm2d(32, eps=1e-05, momentum=0.1, affine=True, track_running_stats=True)\n",
            "      (conv2): Conv2d(32, 32, kernel_size=(3, 3), stride=(1, 1), padding=(1, 1), bias=False)\n",
            "      (bn2): BatchNorm2d(32, eps=1e-05, momentum=0.1, affine=True, track_running_stats=True)\n",
            "      (shortcut): Sequential()\n",
            "    )\n",
            "  )\n",
            "  (layer3): Sequential(\n",
            "    (0): BasicBlock(\n",
            "      (conv1): Conv2d(32, 64, kernel_size=(3, 3), stride=(2, 2), padding=(1, 1), bias=False)\n",
            "      (bn1): BatchNorm2d(64, eps=1e-05, momentum=0.1, affine=True, track_running_stats=True)\n",
            "      (conv2): Conv2d(64, 64, kernel_size=(3, 3), stride=(1, 1), padding=(1, 1), bias=False)\n",
            "      (bn2): BatchNorm2d(64, eps=1e-05, momentum=0.1, affine=True, track_running_stats=True)\n",
            "      (shortcut): Sequential(\n",
            "        (0): Conv2d(32, 64, kernel_size=(1, 1), stride=(2, 2), bias=False)\n",
            "        (1): BatchNorm2d(64, eps=1e-05, momentum=0.1, affine=True, track_running_stats=True)\n",
            "      )\n",
            "    )\n",
            "    (1): BasicBlock(\n",
            "      (conv1): Conv2d(64, 64, kernel_size=(3, 3), stride=(1, 1), padding=(1, 1), bias=False)\n",
            "      (bn1): BatchNorm2d(64, eps=1e-05, momentum=0.1, affine=True, track_running_stats=True)\n",
            "      (conv2): Conv2d(64, 64, kernel_size=(3, 3), stride=(1, 1), padding=(1, 1), bias=False)\n",
            "      (bn2): BatchNorm2d(64, eps=1e-05, momentum=0.1, affine=True, track_running_stats=True)\n",
            "      (shortcut): Sequential()\n",
            "    )\n",
            "  )\n",
            "  (linear): Linear(in_features=64, out_features=10, bias=True)\n",
            ")\n"
          ]
        },
        {
          "output_type": "stream",
          "name": "stderr",
          "text": [
            "/usr/local/lib/python3.7/dist-packages/torch/optim/lr_scheduler.py:136: UserWarning: Detected call of `lr_scheduler.step()` before `optimizer.step()`. In PyTorch 1.1.0 and later, you should call them in the opposite order: `optimizer.step()` before `lr_scheduler.step()`.  Failure to do this will result in PyTorch skipping the first value of the learning rate schedule. See more details at https://pytorch.org/docs/stable/optim.html#how-to-adjust-learning-rate\n",
            "  \"https://pytorch.org/docs/stable/optim.html#how-to-adjust-learning-rate\", UserWarning)\n"
          ]
        },
        {
          "output_type": "stream",
          "name": "stdout",
          "text": [
            "[1] Test Loss: 1.7152, Accuracy: 45.50%\n",
            "[2] Test Loss: 1.1329, Accuracy: 60.96%\n",
            "[3] Test Loss: 1.0263, Accuracy: 64.32%\n",
            "[4] Test Loss: 0.8889, Accuracy: 69.61%\n",
            "[5] Test Loss: 0.9995, Accuracy: 66.64%\n",
            "[6] Test Loss: 1.0644, Accuracy: 66.11%\n",
            "[7] Test Loss: 0.7898, Accuracy: 73.46%\n",
            "[8] Test Loss: 0.6640, Accuracy: 77.15%\n",
            "[9] Test Loss: 0.8012, Accuracy: 74.06%\n",
            "[10] Test Loss: 0.6667, Accuracy: 77.34%\n",
            "[11] Test Loss: 0.9156, Accuracy: 71.21%\n",
            "[12] Test Loss: 0.6721, Accuracy: 77.93%\n",
            "[13] Test Loss: 0.8516, Accuracy: 71.83%\n",
            "[14] Test Loss: 0.6886, Accuracy: 77.06%\n",
            "[15] Test Loss: 0.6295, Accuracy: 78.92%\n",
            "[16] Test Loss: 0.8115, Accuracy: 74.19%\n",
            "[17] Test Loss: 0.7008, Accuracy: 76.96%\n",
            "[18] Test Loss: 0.7544, Accuracy: 75.51%\n",
            "[19] Test Loss: 0.7502, Accuracy: 75.15%\n",
            "[20] Test Loss: 0.6635, Accuracy: 77.91%\n",
            "[21] Test Loss: 0.8345, Accuracy: 72.86%\n",
            "[22] Test Loss: 0.8743, Accuracy: 72.15%\n",
            "[23] Test Loss: 0.9117, Accuracy: 72.03%\n",
            "[24] Test Loss: 0.6347, Accuracy: 79.20%\n",
            "[25] Test Loss: 0.7584, Accuracy: 74.90%\n",
            "[26] Test Loss: 0.6431, Accuracy: 78.28%\n",
            "[27] Test Loss: 0.7539, Accuracy: 75.68%\n",
            "[28] Test Loss: 0.7223, Accuracy: 75.97%\n",
            "[29] Test Loss: 0.6134, Accuracy: 80.04%\n",
            "[30] Test Loss: 0.7047, Accuracy: 77.76%\n",
            "[31] Test Loss: 0.9042, Accuracy: 72.53%\n",
            "[32] Test Loss: 0.8697, Accuracy: 72.75%\n",
            "[33] Test Loss: 0.6107, Accuracy: 79.71%\n",
            "[34] Test Loss: 0.6500, Accuracy: 78.52%\n",
            "[35] Test Loss: 0.5685, Accuracy: 81.06%\n",
            "[36] Test Loss: 0.6246, Accuracy: 79.31%\n",
            "[37] Test Loss: 0.7035, Accuracy: 76.61%\n",
            "[38] Test Loss: 0.7117, Accuracy: 75.78%\n",
            "[39] Test Loss: 0.8433, Accuracy: 73.57%\n",
            "[40] Test Loss: 0.7797, Accuracy: 74.85%\n",
            "[41] Test Loss: 0.7141, Accuracy: 76.77%\n",
            "[42] Test Loss: 0.6313, Accuracy: 79.11%\n",
            "[43] Test Loss: 0.7148, Accuracy: 76.90%\n",
            "[44] Test Loss: 0.6112, Accuracy: 80.02%\n",
            "[45] Test Loss: 0.7170, Accuracy: 76.81%\n",
            "[46] Test Loss: 0.6079, Accuracy: 80.03%\n",
            "[47] Test Loss: 0.6405, Accuracy: 78.53%\n",
            "[48] Test Loss: 0.8962, Accuracy: 71.10%\n",
            "[49] Test Loss: 0.6293, Accuracy: 79.00%\n",
            "[50] Test Loss: 0.3448, Accuracy: 88.48%\n",
            "[51] Test Loss: 0.3451, Accuracy: 88.38%\n",
            "[52] Test Loss: 0.3337, Accuracy: 88.95%\n",
            "[53] Test Loss: 0.3243, Accuracy: 88.83%\n",
            "[54] Test Loss: 0.3237, Accuracy: 88.96%\n",
            "[55] Test Loss: 0.3271, Accuracy: 88.95%\n",
            "[56] Test Loss: 0.3230, Accuracy: 89.12%\n",
            "[57] Test Loss: 0.3290, Accuracy: 89.16%\n",
            "[58] Test Loss: 0.3330, Accuracy: 88.95%\n",
            "[59] Test Loss: 0.3145, Accuracy: 89.37%\n",
            "[60] Test Loss: 0.3369, Accuracy: 88.95%\n",
            "[61] Test Loss: 0.3360, Accuracy: 88.80%\n",
            "[62] Test Loss: 0.3285, Accuracy: 89.46%\n",
            "[63] Test Loss: 0.3396, Accuracy: 88.87%\n",
            "[64] Test Loss: 0.3386, Accuracy: 89.12%\n",
            "[65] Test Loss: 0.3243, Accuracy: 89.62%\n",
            "[66] Test Loss: 0.3491, Accuracy: 88.88%\n",
            "[67] Test Loss: 0.3277, Accuracy: 89.17%\n",
            "[68] Test Loss: 0.3416, Accuracy: 88.90%\n",
            "[69] Test Loss: 0.3521, Accuracy: 88.68%\n",
            "[70] Test Loss: 0.3356, Accuracy: 89.03%\n",
            "[71] Test Loss: 0.3592, Accuracy: 88.35%\n",
            "[72] Test Loss: 0.3615, Accuracy: 88.32%\n",
            "[73] Test Loss: 0.3500, Accuracy: 88.62%\n",
            "[74] Test Loss: 0.3406, Accuracy: 88.78%\n",
            "[75] Test Loss: 0.3359, Accuracy: 89.32%\n",
            "[76] Test Loss: 0.3822, Accuracy: 88.41%\n",
            "[77] Test Loss: 0.3534, Accuracy: 88.74%\n",
            "[78] Test Loss: 0.3564, Accuracy: 88.85%\n",
            "[79] Test Loss: 0.3780, Accuracy: 88.09%\n",
            "[80] Test Loss: 0.3855, Accuracy: 87.57%\n",
            "[81] Test Loss: 0.4097, Accuracy: 87.09%\n",
            "[82] Test Loss: 0.3627, Accuracy: 88.45%\n",
            "[83] Test Loss: 0.3491, Accuracy: 88.68%\n",
            "[84] Test Loss: 0.3763, Accuracy: 87.71%\n",
            "[85] Test Loss: 0.3549, Accuracy: 88.61%\n",
            "[86] Test Loss: 0.3594, Accuracy: 88.45%\n",
            "[87] Test Loss: 0.3905, Accuracy: 87.36%\n",
            "[88] Test Loss: 0.3652, Accuracy: 88.63%\n",
            "[89] Test Loss: 0.3762, Accuracy: 88.04%\n",
            "[90] Test Loss: 0.3600, Accuracy: 88.62%\n",
            "[91] Test Loss: 0.3568, Accuracy: 88.37%\n",
            "[92] Test Loss: 0.3840, Accuracy: 88.00%\n",
            "[93] Test Loss: 0.3951, Accuracy: 87.62%\n",
            "[94] Test Loss: 0.3792, Accuracy: 87.99%\n",
            "[95] Test Loss: 0.3518, Accuracy: 88.97%\n",
            "[96] Test Loss: 0.3740, Accuracy: 88.10%\n",
            "[97] Test Loss: 0.3543, Accuracy: 88.42%\n",
            "[98] Test Loss: 0.4531, Accuracy: 86.41%\n",
            "[99] Test Loss: 0.3617, Accuracy: 88.63%\n",
            "[100] Test Loss: 0.3053, Accuracy: 90.36%\n",
            "[101] Test Loss: 0.2948, Accuracy: 90.56%\n",
            "[102] Test Loss: 0.2945, Accuracy: 90.65%\n",
            "[103] Test Loss: 0.2903, Accuracy: 90.78%\n",
            "[104] Test Loss: 0.2916, Accuracy: 90.92%\n",
            "[105] Test Loss: 0.2910, Accuracy: 90.63%\n",
            "[106] Test Loss: 0.2922, Accuracy: 90.70%\n",
            "[107] Test Loss: 0.2918, Accuracy: 90.82%\n",
            "[108] Test Loss: 0.2939, Accuracy: 90.82%\n",
            "[109] Test Loss: 0.2927, Accuracy: 90.81%\n",
            "[110] Test Loss: 0.2919, Accuracy: 90.81%\n",
            "[111] Test Loss: 0.2947, Accuracy: 90.74%\n",
            "[112] Test Loss: 0.2948, Accuracy: 90.73%\n",
            "[113] Test Loss: 0.2947, Accuracy: 90.80%\n",
            "[114] Test Loss: 0.2964, Accuracy: 90.76%\n",
            "[115] Test Loss: 0.2986, Accuracy: 90.60%\n",
            "[116] Test Loss: 0.2999, Accuracy: 90.87%\n",
            "[117] Test Loss: 0.3024, Accuracy: 90.71%\n",
            "[118] Test Loss: 0.3002, Accuracy: 90.62%\n",
            "[119] Test Loss: 0.3027, Accuracy: 90.79%\n",
            "[120] Test Loss: 0.2999, Accuracy: 90.87%\n",
            "[121] Test Loss: 0.3061, Accuracy: 90.71%\n",
            "[122] Test Loss: 0.3032, Accuracy: 90.74%\n",
            "[123] Test Loss: 0.3012, Accuracy: 90.80%\n",
            "[124] Test Loss: 0.3046, Accuracy: 90.67%\n",
            "[125] Test Loss: 0.3059, Accuracy: 90.91%\n",
            "[126] Test Loss: 0.3066, Accuracy: 90.75%\n",
            "[127] Test Loss: 0.3033, Accuracy: 90.83%\n",
            "[128] Test Loss: 0.3058, Accuracy: 90.80%\n",
            "[129] Test Loss: 0.3061, Accuracy: 90.73%\n",
            "[130] Test Loss: 0.3044, Accuracy: 90.79%\n",
            "[131] Test Loss: 0.3080, Accuracy: 90.93%\n",
            "[132] Test Loss: 0.3061, Accuracy: 90.78%\n",
            "[133] Test Loss: 0.3135, Accuracy: 90.59%\n",
            "[134] Test Loss: 0.3097, Accuracy: 90.76%\n",
            "[135] Test Loss: 0.3133, Accuracy: 90.72%\n",
            "[136] Test Loss: 0.3141, Accuracy: 90.77%\n",
            "[137] Test Loss: 0.3101, Accuracy: 90.64%\n",
            "[138] Test Loss: 0.3169, Accuracy: 90.69%\n",
            "[139] Test Loss: 0.3148, Accuracy: 90.53%\n",
            "[140] Test Loss: 0.3137, Accuracy: 90.64%\n",
            "[141] Test Loss: 0.3185, Accuracy: 90.76%\n",
            "[142] Test Loss: 0.3219, Accuracy: 90.47%\n",
            "[143] Test Loss: 0.3168, Accuracy: 90.57%\n",
            "[144] Test Loss: 0.3141, Accuracy: 90.74%\n",
            "[145] Test Loss: 0.3164, Accuracy: 90.76%\n",
            "[146] Test Loss: 0.3225, Accuracy: 90.53%\n",
            "[147] Test Loss: 0.3214, Accuracy: 90.79%\n",
            "[148] Test Loss: 0.3221, Accuracy: 90.55%\n",
            "[149] Test Loss: 0.3206, Accuracy: 90.62%\n",
            "[150] Test Loss: 0.3152, Accuracy: 90.79%\n",
            "[151] Test Loss: 0.3173, Accuracy: 90.77%\n",
            "[152] Test Loss: 0.3164, Accuracy: 90.83%\n",
            "[153] Test Loss: 0.3177, Accuracy: 90.59%\n",
            "[154] Test Loss: 0.3188, Accuracy: 90.76%\n",
            "[155] Test Loss: 0.3156, Accuracy: 90.68%\n",
            "[156] Test Loss: 0.3146, Accuracy: 90.72%\n",
            "[157] Test Loss: 0.3146, Accuracy: 90.71%\n",
            "[158] Test Loss: 0.3155, Accuracy: 90.91%\n",
            "[159] Test Loss: 0.3171, Accuracy: 90.72%\n",
            "[160] Test Loss: 0.3178, Accuracy: 90.86%\n",
            "[161] Test Loss: 0.3142, Accuracy: 90.75%\n",
            "[162] Test Loss: 0.3126, Accuracy: 90.83%\n",
            "[163] Test Loss: 0.3174, Accuracy: 90.79%\n",
            "[164] Test Loss: 0.3156, Accuracy: 90.79%\n",
            "[165] Test Loss: 0.3143, Accuracy: 90.81%\n",
            "[166] Test Loss: 0.3148, Accuracy: 90.79%\n",
            "[167] Test Loss: 0.3166, Accuracy: 90.74%\n",
            "[168] Test Loss: 0.3127, Accuracy: 90.79%\n",
            "[169] Test Loss: 0.3135, Accuracy: 90.86%\n",
            "[170] Test Loss: 0.3136, Accuracy: 90.80%\n",
            "[171] Test Loss: 0.3161, Accuracy: 90.82%\n",
            "[172] Test Loss: 0.3151, Accuracy: 90.70%\n",
            "[173] Test Loss: 0.3190, Accuracy: 90.79%\n",
            "[174] Test Loss: 0.3164, Accuracy: 90.77%\n",
            "[175] Test Loss: 0.3172, Accuracy: 90.77%\n",
            "[176] Test Loss: 0.3168, Accuracy: 90.75%\n",
            "[177] Test Loss: 0.3165, Accuracy: 90.89%\n",
            "[178] Test Loss: 0.3158, Accuracy: 90.69%\n",
            "[179] Test Loss: 0.3188, Accuracy: 90.77%\n",
            "[180] Test Loss: 0.3171, Accuracy: 90.72%\n",
            "[181] Test Loss: 0.3165, Accuracy: 90.74%\n",
            "[182] Test Loss: 0.3161, Accuracy: 90.82%\n",
            "[183] Test Loss: 0.3199, Accuracy: 90.74%\n",
            "[184] Test Loss: 0.3164, Accuracy: 90.83%\n",
            "[185] Test Loss: 0.3130, Accuracy: 90.82%\n",
            "[186] Test Loss: 0.3176, Accuracy: 90.75%\n",
            "[187] Test Loss: 0.3165, Accuracy: 90.84%\n",
            "[188] Test Loss: 0.3162, Accuracy: 90.75%\n",
            "[189] Test Loss: 0.3194, Accuracy: 90.80%\n",
            "[190] Test Loss: 0.3179, Accuracy: 90.82%\n",
            "[191] Test Loss: 0.3162, Accuracy: 90.70%\n",
            "[192] Test Loss: 0.3154, Accuracy: 90.80%\n",
            "[193] Test Loss: 0.3185, Accuracy: 90.75%\n",
            "[194] Test Loss: 0.3173, Accuracy: 90.78%\n",
            "[195] Test Loss: 0.3170, Accuracy: 90.67%\n",
            "[196] Test Loss: 0.3199, Accuracy: 90.83%\n",
            "[197] Test Loss: 0.3167, Accuracy: 90.76%\n",
            "[198] Test Loss: 0.3170, Accuracy: 90.78%\n",
            "[199] Test Loss: 0.3156, Accuracy: 90.86%\n",
            "[200] Test Loss: 0.3168, Accuracy: 90.70%\n",
            "[201] Test Loss: 0.3169, Accuracy: 90.73%\n",
            "[202] Test Loss: 0.3171, Accuracy: 90.76%\n",
            "[203] Test Loss: 0.3150, Accuracy: 90.81%\n",
            "[204] Test Loss: 0.3150, Accuracy: 90.68%\n",
            "[205] Test Loss: 0.3165, Accuracy: 90.79%\n",
            "[206] Test Loss: 0.3173, Accuracy: 90.75%\n",
            "[207] Test Loss: 0.3168, Accuracy: 90.83%\n",
            "[208] Test Loss: 0.3180, Accuracy: 90.74%\n",
            "[209] Test Loss: 0.3173, Accuracy: 90.71%\n",
            "[210] Test Loss: 0.3149, Accuracy: 90.79%\n",
            "[211] Test Loss: 0.3175, Accuracy: 90.76%\n",
            "[212] Test Loss: 0.3178, Accuracy: 90.65%\n",
            "[213] Test Loss: 0.3191, Accuracy: 90.70%\n",
            "[214] Test Loss: 0.3170, Accuracy: 90.86%\n",
            "[215] Test Loss: 0.3191, Accuracy: 90.73%\n",
            "[216] Test Loss: 0.3144, Accuracy: 90.85%\n",
            "[217] Test Loss: 0.3166, Accuracy: 90.78%\n",
            "[218] Test Loss: 0.3158, Accuracy: 90.78%\n",
            "[219] Test Loss: 0.3178, Accuracy: 90.65%\n",
            "[220] Test Loss: 0.3169, Accuracy: 90.76%\n",
            "[221] Test Loss: 0.3169, Accuracy: 90.80%\n",
            "[222] Test Loss: 0.3153, Accuracy: 90.77%\n",
            "[223] Test Loss: 0.3176, Accuracy: 90.80%\n",
            "[224] Test Loss: 0.3154, Accuracy: 90.77%\n",
            "[225] Test Loss: 0.3161, Accuracy: 90.71%\n",
            "[226] Test Loss: 0.3177, Accuracy: 90.70%\n",
            "[227] Test Loss: 0.3170, Accuracy: 90.78%\n",
            "[228] Test Loss: 0.3154, Accuracy: 90.72%\n",
            "[229] Test Loss: 0.3164, Accuracy: 90.79%\n",
            "[230] Test Loss: 0.3175, Accuracy: 90.74%\n",
            "[231] Test Loss: 0.3169, Accuracy: 90.76%\n",
            "[232] Test Loss: 0.3193, Accuracy: 90.75%\n",
            "[233] Test Loss: 0.3172, Accuracy: 90.75%\n",
            "[234] Test Loss: 0.3185, Accuracy: 90.71%\n",
            "[235] Test Loss: 0.3183, Accuracy: 90.59%\n",
            "[236] Test Loss: 0.3156, Accuracy: 90.70%\n",
            "[237] Test Loss: 0.3158, Accuracy: 90.84%\n",
            "[238] Test Loss: 0.3165, Accuracy: 90.71%\n",
            "[239] Test Loss: 0.3182, Accuracy: 90.67%\n",
            "[240] Test Loss: 0.3174, Accuracy: 90.79%\n",
            "[241] Test Loss: 0.3176, Accuracy: 90.75%\n",
            "[242] Test Loss: 0.3167, Accuracy: 90.71%\n",
            "[243] Test Loss: 0.3163, Accuracy: 90.82%\n",
            "[244] Test Loss: 0.3193, Accuracy: 90.64%\n",
            "[245] Test Loss: 0.3161, Accuracy: 90.79%\n",
            "[246] Test Loss: 0.3211, Accuracy: 90.79%\n",
            "[247] Test Loss: 0.3165, Accuracy: 90.79%\n",
            "[248] Test Loss: 0.3162, Accuracy: 90.84%\n",
            "[249] Test Loss: 0.3156, Accuracy: 90.77%\n",
            "[250] Test Loss: 0.3169, Accuracy: 90.92%\n",
            "[251] Test Loss: 0.3135, Accuracy: 90.83%\n",
            "[252] Test Loss: 0.3172, Accuracy: 90.80%\n",
            "[253] Test Loss: 0.3171, Accuracy: 90.72%\n",
            "[254] Test Loss: 0.3153, Accuracy: 90.81%\n",
            "[255] Test Loss: 0.3164, Accuracy: 90.68%\n",
            "[256] Test Loss: 0.3186, Accuracy: 90.75%\n",
            "[257] Test Loss: 0.3173, Accuracy: 90.70%\n",
            "[258] Test Loss: 0.3167, Accuracy: 90.83%\n",
            "[259] Test Loss: 0.3171, Accuracy: 90.89%\n",
            "[260] Test Loss: 0.3183, Accuracy: 90.71%\n",
            "[261] Test Loss: 0.3199, Accuracy: 90.81%\n",
            "[262] Test Loss: 0.3166, Accuracy: 90.70%\n",
            "[263] Test Loss: 0.3132, Accuracy: 90.75%\n",
            "[264] Test Loss: 0.3178, Accuracy: 90.74%\n",
            "[265] Test Loss: 0.3155, Accuracy: 90.86%\n",
            "[266] Test Loss: 0.3173, Accuracy: 90.87%\n",
            "[267] Test Loss: 0.3197, Accuracy: 90.81%\n",
            "[268] Test Loss: 0.3179, Accuracy: 90.74%\n",
            "[269] Test Loss: 0.3164, Accuracy: 90.80%\n",
            "[270] Test Loss: 0.3176, Accuracy: 90.77%\n",
            "[271] Test Loss: 0.3154, Accuracy: 90.69%\n",
            "[272] Test Loss: 0.3165, Accuracy: 90.84%\n",
            "[273] Test Loss: 0.3184, Accuracy: 90.77%\n",
            "[274] Test Loss: 0.3187, Accuracy: 90.75%\n",
            "[275] Test Loss: 0.3168, Accuracy: 90.64%\n",
            "[276] Test Loss: 0.3181, Accuracy: 90.70%\n",
            "[277] Test Loss: 0.3170, Accuracy: 90.66%\n",
            "[278] Test Loss: 0.3168, Accuracy: 90.70%\n",
            "[279] Test Loss: 0.3157, Accuracy: 90.80%\n",
            "[280] Test Loss: 0.3156, Accuracy: 90.74%\n",
            "[281] Test Loss: 0.3192, Accuracy: 90.78%\n",
            "[282] Test Loss: 0.3178, Accuracy: 90.59%\n",
            "[283] Test Loss: 0.3158, Accuracy: 90.73%\n",
            "[284] Test Loss: 0.3159, Accuracy: 90.85%\n",
            "[285] Test Loss: 0.3149, Accuracy: 90.72%\n",
            "[286] Test Loss: 0.3183, Accuracy: 90.77%\n",
            "[287] Test Loss: 0.3169, Accuracy: 90.85%\n",
            "[288] Test Loss: 0.3161, Accuracy: 90.75%\n",
            "[289] Test Loss: 0.3155, Accuracy: 90.87%\n",
            "[290] Test Loss: 0.3173, Accuracy: 90.86%\n",
            "[291] Test Loss: 0.3192, Accuracy: 90.81%\n",
            "[292] Test Loss: 0.3167, Accuracy: 90.84%\n",
            "[293] Test Loss: 0.3151, Accuracy: 90.77%\n",
            "[294] Test Loss: 0.3159, Accuracy: 90.72%\n",
            "[295] Test Loss: 0.3195, Accuracy: 90.69%\n",
            "[296] Test Loss: 0.3188, Accuracy: 90.74%\n",
            "[297] Test Loss: 0.3184, Accuracy: 90.63%\n",
            "[298] Test Loss: 0.3150, Accuracy: 90.73%\n",
            "[299] Test Loss: 0.3167, Accuracy: 90.73%\n",
            "[300] Test Loss: 0.3177, Accuracy: 90.71%\n"
          ]
        }
      ]
    }
  ],
  "metadata": {
    "accelerator": "GPU",
    "colab": {
      "name": "Original Resnet 2021221067_권순재.ipynb",
      "provenance": [],
      "collapsed_sections": []
    },
    "kernelspec": {
      "display_name": "Python 3",
      "name": "python3"
    },
    "language_info": {
      "name": "python"
    },
    "widgets": {
      "application/vnd.jupyter.widget-state+json": {
        "3e70441361524095bca2e1f5f522b94a": {
          "model_module": "@jupyter-widgets/controls",
          "model_name": "HBoxModel",
          "model_module_version": "1.5.0",
          "state": {
            "_dom_classes": [],
            "_model_module": "@jupyter-widgets/controls",
            "_model_module_version": "1.5.0",
            "_model_name": "HBoxModel",
            "_view_count": null,
            "_view_module": "@jupyter-widgets/controls",
            "_view_module_version": "1.5.0",
            "_view_name": "HBoxView",
            "box_style": "",
            "children": [
              "IPY_MODEL_0e8d7779c333407d89b30df9567aa948",
              "IPY_MODEL_28c3c1ee42884a4e8afe8d5820f35820",
              "IPY_MODEL_9afb9e60b3ab4ca48ec34b230cbc9c0a"
            ],
            "layout": "IPY_MODEL_d83ae52c20dd49d8bfce2b14d8829632"
          }
        },
        "0e8d7779c333407d89b30df9567aa948": {
          "model_module": "@jupyter-widgets/controls",
          "model_name": "HTMLModel",
          "model_module_version": "1.5.0",
          "state": {
            "_dom_classes": [],
            "_model_module": "@jupyter-widgets/controls",
            "_model_module_version": "1.5.0",
            "_model_name": "HTMLModel",
            "_view_count": null,
            "_view_module": "@jupyter-widgets/controls",
            "_view_module_version": "1.5.0",
            "_view_name": "HTMLView",
            "description": "",
            "description_tooltip": null,
            "layout": "IPY_MODEL_f5be9158a48b493790ea922a5f12cf16",
            "placeholder": "​",
            "style": "IPY_MODEL_05ab591fe731455595575decbb7fb2b6",
            "value": ""
          }
        },
        "28c3c1ee42884a4e8afe8d5820f35820": {
          "model_module": "@jupyter-widgets/controls",
          "model_name": "FloatProgressModel",
          "model_module_version": "1.5.0",
          "state": {
            "_dom_classes": [],
            "_model_module": "@jupyter-widgets/controls",
            "_model_module_version": "1.5.0",
            "_model_name": "FloatProgressModel",
            "_view_count": null,
            "_view_module": "@jupyter-widgets/controls",
            "_view_module_version": "1.5.0",
            "_view_name": "ProgressView",
            "bar_style": "success",
            "description": "",
            "description_tooltip": null,
            "layout": "IPY_MODEL_d96a4e9d3e6949f1a3df628decb19088",
            "max": 170498071,
            "min": 0,
            "orientation": "horizontal",
            "style": "IPY_MODEL_61047774bb374d38a58b351655d7ebcf",
            "value": 170498071
          }
        },
        "9afb9e60b3ab4ca48ec34b230cbc9c0a": {
          "model_module": "@jupyter-widgets/controls",
          "model_name": "HTMLModel",
          "model_module_version": "1.5.0",
          "state": {
            "_dom_classes": [],
            "_model_module": "@jupyter-widgets/controls",
            "_model_module_version": "1.5.0",
            "_model_name": "HTMLModel",
            "_view_count": null,
            "_view_module": "@jupyter-widgets/controls",
            "_view_module_version": "1.5.0",
            "_view_name": "HTMLView",
            "description": "",
            "description_tooltip": null,
            "layout": "IPY_MODEL_1a789679f0334c89be4ae565dc72644d",
            "placeholder": "​",
            "style": "IPY_MODEL_826863e82d294d72a2b7b8387e5ce789",
            "value": " 170499072/? [00:03&lt;00:00, 54420091.96it/s]"
          }
        },
        "d83ae52c20dd49d8bfce2b14d8829632": {
          "model_module": "@jupyter-widgets/base",
          "model_name": "LayoutModel",
          "model_module_version": "1.2.0",
          "state": {
            "_model_module": "@jupyter-widgets/base",
            "_model_module_version": "1.2.0",
            "_model_name": "LayoutModel",
            "_view_count": null,
            "_view_module": "@jupyter-widgets/base",
            "_view_module_version": "1.2.0",
            "_view_name": "LayoutView",
            "align_content": null,
            "align_items": null,
            "align_self": null,
            "border": null,
            "bottom": null,
            "display": null,
            "flex": null,
            "flex_flow": null,
            "grid_area": null,
            "grid_auto_columns": null,
            "grid_auto_flow": null,
            "grid_auto_rows": null,
            "grid_column": null,
            "grid_gap": null,
            "grid_row": null,
            "grid_template_areas": null,
            "grid_template_columns": null,
            "grid_template_rows": null,
            "height": null,
            "justify_content": null,
            "justify_items": null,
            "left": null,
            "margin": null,
            "max_height": null,
            "max_width": null,
            "min_height": null,
            "min_width": null,
            "object_fit": null,
            "object_position": null,
            "order": null,
            "overflow": null,
            "overflow_x": null,
            "overflow_y": null,
            "padding": null,
            "right": null,
            "top": null,
            "visibility": null,
            "width": null
          }
        },
        "f5be9158a48b493790ea922a5f12cf16": {
          "model_module": "@jupyter-widgets/base",
          "model_name": "LayoutModel",
          "model_module_version": "1.2.0",
          "state": {
            "_model_module": "@jupyter-widgets/base",
            "_model_module_version": "1.2.0",
            "_model_name": "LayoutModel",
            "_view_count": null,
            "_view_module": "@jupyter-widgets/base",
            "_view_module_version": "1.2.0",
            "_view_name": "LayoutView",
            "align_content": null,
            "align_items": null,
            "align_self": null,
            "border": null,
            "bottom": null,
            "display": null,
            "flex": null,
            "flex_flow": null,
            "grid_area": null,
            "grid_auto_columns": null,
            "grid_auto_flow": null,
            "grid_auto_rows": null,
            "grid_column": null,
            "grid_gap": null,
            "grid_row": null,
            "grid_template_areas": null,
            "grid_template_columns": null,
            "grid_template_rows": null,
            "height": null,
            "justify_content": null,
            "justify_items": null,
            "left": null,
            "margin": null,
            "max_height": null,
            "max_width": null,
            "min_height": null,
            "min_width": null,
            "object_fit": null,
            "object_position": null,
            "order": null,
            "overflow": null,
            "overflow_x": null,
            "overflow_y": null,
            "padding": null,
            "right": null,
            "top": null,
            "visibility": null,
            "width": null
          }
        },
        "05ab591fe731455595575decbb7fb2b6": {
          "model_module": "@jupyter-widgets/controls",
          "model_name": "DescriptionStyleModel",
          "model_module_version": "1.5.0",
          "state": {
            "_model_module": "@jupyter-widgets/controls",
            "_model_module_version": "1.5.0",
            "_model_name": "DescriptionStyleModel",
            "_view_count": null,
            "_view_module": "@jupyter-widgets/base",
            "_view_module_version": "1.2.0",
            "_view_name": "StyleView",
            "description_width": ""
          }
        },
        "d96a4e9d3e6949f1a3df628decb19088": {
          "model_module": "@jupyter-widgets/base",
          "model_name": "LayoutModel",
          "model_module_version": "1.2.0",
          "state": {
            "_model_module": "@jupyter-widgets/base",
            "_model_module_version": "1.2.0",
            "_model_name": "LayoutModel",
            "_view_count": null,
            "_view_module": "@jupyter-widgets/base",
            "_view_module_version": "1.2.0",
            "_view_name": "LayoutView",
            "align_content": null,
            "align_items": null,
            "align_self": null,
            "border": null,
            "bottom": null,
            "display": null,
            "flex": null,
            "flex_flow": null,
            "grid_area": null,
            "grid_auto_columns": null,
            "grid_auto_flow": null,
            "grid_auto_rows": null,
            "grid_column": null,
            "grid_gap": null,
            "grid_row": null,
            "grid_template_areas": null,
            "grid_template_columns": null,
            "grid_template_rows": null,
            "height": null,
            "justify_content": null,
            "justify_items": null,
            "left": null,
            "margin": null,
            "max_height": null,
            "max_width": null,
            "min_height": null,
            "min_width": null,
            "object_fit": null,
            "object_position": null,
            "order": null,
            "overflow": null,
            "overflow_x": null,
            "overflow_y": null,
            "padding": null,
            "right": null,
            "top": null,
            "visibility": null,
            "width": null
          }
        },
        "61047774bb374d38a58b351655d7ebcf": {
          "model_module": "@jupyter-widgets/controls",
          "model_name": "ProgressStyleModel",
          "model_module_version": "1.5.0",
          "state": {
            "_model_module": "@jupyter-widgets/controls",
            "_model_module_version": "1.5.0",
            "_model_name": "ProgressStyleModel",
            "_view_count": null,
            "_view_module": "@jupyter-widgets/base",
            "_view_module_version": "1.2.0",
            "_view_name": "StyleView",
            "bar_color": null,
            "description_width": ""
          }
        },
        "1a789679f0334c89be4ae565dc72644d": {
          "model_module": "@jupyter-widgets/base",
          "model_name": "LayoutModel",
          "model_module_version": "1.2.0",
          "state": {
            "_model_module": "@jupyter-widgets/base",
            "_model_module_version": "1.2.0",
            "_model_name": "LayoutModel",
            "_view_count": null,
            "_view_module": "@jupyter-widgets/base",
            "_view_module_version": "1.2.0",
            "_view_name": "LayoutView",
            "align_content": null,
            "align_items": null,
            "align_self": null,
            "border": null,
            "bottom": null,
            "display": null,
            "flex": null,
            "flex_flow": null,
            "grid_area": null,
            "grid_auto_columns": null,
            "grid_auto_flow": null,
            "grid_auto_rows": null,
            "grid_column": null,
            "grid_gap": null,
            "grid_row": null,
            "grid_template_areas": null,
            "grid_template_columns": null,
            "grid_template_rows": null,
            "height": null,
            "justify_content": null,
            "justify_items": null,
            "left": null,
            "margin": null,
            "max_height": null,
            "max_width": null,
            "min_height": null,
            "min_width": null,
            "object_fit": null,
            "object_position": null,
            "order": null,
            "overflow": null,
            "overflow_x": null,
            "overflow_y": null,
            "padding": null,
            "right": null,
            "top": null,
            "visibility": null,
            "width": null
          }
        },
        "826863e82d294d72a2b7b8387e5ce789": {
          "model_module": "@jupyter-widgets/controls",
          "model_name": "DescriptionStyleModel",
          "model_module_version": "1.5.0",
          "state": {
            "_model_module": "@jupyter-widgets/controls",
            "_model_module_version": "1.5.0",
            "_model_name": "DescriptionStyleModel",
            "_view_count": null,
            "_view_module": "@jupyter-widgets/base",
            "_view_module_version": "1.2.0",
            "_view_name": "StyleView",
            "description_width": ""
          }
        }
      }
    }
  },
  "nbformat": 4,
  "nbformat_minor": 0
}